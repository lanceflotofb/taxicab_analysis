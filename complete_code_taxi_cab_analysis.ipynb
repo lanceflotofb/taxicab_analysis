{
 "cells": [
  {
   "cell_type": "markdown",
   "metadata": {},
   "source": [
    "# Overview\n",
    "#### The goal of examining this data is to find how to maximize profits for a taxi driver who will drive 10 hours per week. This data exploration will focus on the variables that can be controlled by the taxi driver.\n",
    "#### Those things are:\n",
    "- Location\n",
    "- Time of day\n",
    "- Day of week\n",
    "- Taxicab vs taxivan\n",
    "\n",
    "#### My report will be structured in the following form:\n",
    "- Data Inspection\n",
    "- Assumptions and Cleanup\n",
    "- Analysis\n",
    "- Conclusion\n",
    "- Complications\n",
    "- Desired Additions of Data"
   ]
  },
  {
   "cell_type": "code",
   "execution_count": 1,
   "metadata": {},
   "outputs": [],
   "source": [
    "import pandas as pd\n",
    "import numpy as np\n",
    "import seaborn as sns\n",
    "import matplotlib.pyplot as plt"
   ]
  },
  {
   "cell_type": "code",
   "execution_count": 2,
   "metadata": {},
   "outputs": [],
   "source": [
    "df = pd.read_csv('yellow_tripdata_2017-06.csv')\n",
    "zone_lookup = pd.read_csv('taxi+_zone_lookup.csv')"
   ]
  },
  {
   "cell_type": "markdown",
   "metadata": {},
   "source": [
    "### Sample subset of data\n",
    "#### The dataset is very large and causing memory errors when run locally with minimal RAM. Using 20% of the dataset still leaves just under 2 million samples and should be equally as effective. If I had more computing resources, I would keep all the data."
   ]
  },
  {
   "cell_type": "code",
   "execution_count": 3,
   "metadata": {},
   "outputs": [],
   "source": [
    "df = df.sample(frac=0.2)"
   ]
  },
  {
   "cell_type": "markdown",
   "metadata": {},
   "source": [
    "## Data Inspection"
   ]
  },
  {
   "cell_type": "code",
   "execution_count": 4,
   "metadata": {},
   "outputs": [
    {
     "data": {
      "text/plain": [
       "(1931399, 17)"
      ]
     },
     "execution_count": 4,
     "metadata": {},
     "output_type": "execute_result"
    }
   ],
   "source": [
    "df.shape"
   ]
  },
  {
   "cell_type": "code",
   "execution_count": 5,
   "metadata": {},
   "outputs": [
    {
     "data": {
      "text/html": [
       "<div>\n",
       "<style scoped>\n",
       "    .dataframe tbody tr th:only-of-type {\n",
       "        vertical-align: middle;\n",
       "    }\n",
       "\n",
       "    .dataframe tbody tr th {\n",
       "        vertical-align: top;\n",
       "    }\n",
       "\n",
       "    .dataframe thead th {\n",
       "        text-align: right;\n",
       "    }\n",
       "</style>\n",
       "<table border=\"1\" class=\"dataframe\">\n",
       "  <thead>\n",
       "    <tr style=\"text-align: right;\">\n",
       "      <th></th>\n",
       "      <th>VendorID</th>\n",
       "      <th>tpep_pickup_datetime</th>\n",
       "      <th>tpep_dropoff_datetime</th>\n",
       "      <th>passenger_count</th>\n",
       "      <th>trip_distance</th>\n",
       "      <th>RatecodeID</th>\n",
       "      <th>store_and_fwd_flag</th>\n",
       "      <th>PULocationID</th>\n",
       "      <th>DOLocationID</th>\n",
       "      <th>payment_type</th>\n",
       "      <th>fare_amount</th>\n",
       "      <th>extra</th>\n",
       "      <th>mta_tax</th>\n",
       "      <th>tip_amount</th>\n",
       "      <th>tolls_amount</th>\n",
       "      <th>improvement_surcharge</th>\n",
       "      <th>total_amount</th>\n",
       "    </tr>\n",
       "  </thead>\n",
       "  <tbody>\n",
       "    <tr>\n",
       "      <th>8357307</th>\n",
       "      <td>2</td>\n",
       "      <td>2017-06-30 22:11:24</td>\n",
       "      <td>2017-06-30 22:20:43</td>\n",
       "      <td>1</td>\n",
       "      <td>1.01</td>\n",
       "      <td>1</td>\n",
       "      <td>N</td>\n",
       "      <td>234</td>\n",
       "      <td>186</td>\n",
       "      <td>2</td>\n",
       "      <td>7.5</td>\n",
       "      <td>0.5</td>\n",
       "      <td>0.5</td>\n",
       "      <td>0.00</td>\n",
       "      <td>0.00</td>\n",
       "      <td>0.3</td>\n",
       "      <td>8.80</td>\n",
       "    </tr>\n",
       "    <tr>\n",
       "      <th>194845</th>\n",
       "      <td>1</td>\n",
       "      <td>2017-06-10 19:59:21</td>\n",
       "      <td>2017-06-10 20:07:23</td>\n",
       "      <td>1</td>\n",
       "      <td>1.20</td>\n",
       "      <td>1</td>\n",
       "      <td>N</td>\n",
       "      <td>141</td>\n",
       "      <td>161</td>\n",
       "      <td>1</td>\n",
       "      <td>7.5</td>\n",
       "      <td>0.0</td>\n",
       "      <td>0.5</td>\n",
       "      <td>1.65</td>\n",
       "      <td>0.00</td>\n",
       "      <td>0.3</td>\n",
       "      <td>9.95</td>\n",
       "    </tr>\n",
       "    <tr>\n",
       "      <th>4316527</th>\n",
       "      <td>2</td>\n",
       "      <td>2017-06-16 18:34:55</td>\n",
       "      <td>2017-06-16 19:34:26</td>\n",
       "      <td>1</td>\n",
       "      <td>18.42</td>\n",
       "      <td>2</td>\n",
       "      <td>N</td>\n",
       "      <td>132</td>\n",
       "      <td>90</td>\n",
       "      <td>2</td>\n",
       "      <td>52.0</td>\n",
       "      <td>4.5</td>\n",
       "      <td>0.5</td>\n",
       "      <td>0.00</td>\n",
       "      <td>5.76</td>\n",
       "      <td>0.3</td>\n",
       "      <td>63.06</td>\n",
       "    </tr>\n",
       "    <tr>\n",
       "      <th>8003692</th>\n",
       "      <td>2</td>\n",
       "      <td>2017-06-28 22:49:22</td>\n",
       "      <td>2017-06-28 23:07:40</td>\n",
       "      <td>1</td>\n",
       "      <td>3.12</td>\n",
       "      <td>1</td>\n",
       "      <td>N</td>\n",
       "      <td>79</td>\n",
       "      <td>43</td>\n",
       "      <td>2</td>\n",
       "      <td>14.0</td>\n",
       "      <td>0.5</td>\n",
       "      <td>0.5</td>\n",
       "      <td>0.00</td>\n",
       "      <td>0.00</td>\n",
       "      <td>0.3</td>\n",
       "      <td>15.30</td>\n",
       "    </tr>\n",
       "    <tr>\n",
       "      <th>1862925</th>\n",
       "      <td>1</td>\n",
       "      <td>2017-06-05 00:18:44</td>\n",
       "      <td>2017-06-05 00:34:06</td>\n",
       "      <td>1</td>\n",
       "      <td>3.70</td>\n",
       "      <td>1</td>\n",
       "      <td>N</td>\n",
       "      <td>230</td>\n",
       "      <td>261</td>\n",
       "      <td>2</td>\n",
       "      <td>14.0</td>\n",
       "      <td>0.5</td>\n",
       "      <td>0.5</td>\n",
       "      <td>0.00</td>\n",
       "      <td>0.00</td>\n",
       "      <td>0.3</td>\n",
       "      <td>15.30</td>\n",
       "    </tr>\n",
       "  </tbody>\n",
       "</table>\n",
       "</div>"
      ],
      "text/plain": [
       "         VendorID tpep_pickup_datetime tpep_dropoff_datetime  passenger_count  \\\n",
       "8357307         2  2017-06-30 22:11:24   2017-06-30 22:20:43                1   \n",
       "194845          1  2017-06-10 19:59:21   2017-06-10 20:07:23                1   \n",
       "4316527         2  2017-06-16 18:34:55   2017-06-16 19:34:26                1   \n",
       "8003692         2  2017-06-28 22:49:22   2017-06-28 23:07:40                1   \n",
       "1862925         1  2017-06-05 00:18:44   2017-06-05 00:34:06                1   \n",
       "\n",
       "         trip_distance  RatecodeID store_and_fwd_flag  PULocationID  \\\n",
       "8357307           1.01           1                  N           234   \n",
       "194845            1.20           1                  N           141   \n",
       "4316527          18.42           2                  N           132   \n",
       "8003692           3.12           1                  N            79   \n",
       "1862925           3.70           1                  N           230   \n",
       "\n",
       "         DOLocationID  payment_type  fare_amount  extra  mta_tax  tip_amount  \\\n",
       "8357307           186             2          7.5    0.5      0.5        0.00   \n",
       "194845            161             1          7.5    0.0      0.5        1.65   \n",
       "4316527            90             2         52.0    4.5      0.5        0.00   \n",
       "8003692            43             2         14.0    0.5      0.5        0.00   \n",
       "1862925           261             2         14.0    0.5      0.5        0.00   \n",
       "\n",
       "         tolls_amount  improvement_surcharge  total_amount  \n",
       "8357307          0.00                    0.3          8.80  \n",
       "194845           0.00                    0.3          9.95  \n",
       "4316527          5.76                    0.3         63.06  \n",
       "8003692          0.00                    0.3         15.30  \n",
       "1862925          0.00                    0.3         15.30  "
      ]
     },
     "execution_count": 5,
     "metadata": {},
     "output_type": "execute_result"
    }
   ],
   "source": [
    "df.head()"
   ]
  },
  {
   "cell_type": "markdown",
   "metadata": {},
   "source": [
    "#### Pickup time, dropoff time, and trip duration"
   ]
  },
  {
   "cell_type": "markdown",
   "metadata": {},
   "source": [
    "##### Convert pickup and dropoff times to datetime objects"
   ]
  },
  {
   "cell_type": "code",
   "execution_count": 6,
   "metadata": {},
   "outputs": [],
   "source": [
    "df.tpep_pickup_datetime = pd.to_datetime(df.tpep_pickup_datetime, format='%Y-%m-%d %H:%M:%S')\n",
    "df.tpep_dropoff_datetime = pd.to_datetime(df.tpep_dropoff_datetime, format='%Y-%m-%d %H:%M:%S')"
   ]
  },
  {
   "cell_type": "code",
   "execution_count": 7,
   "metadata": {},
   "outputs": [],
   "source": [
    "df['trip_duration'] = (df.tpep_dropoff_datetime - df.tpep_pickup_datetime).dt.total_seconds()"
   ]
  },
  {
   "cell_type": "code",
   "execution_count": 8,
   "metadata": {},
   "outputs": [
    {
     "data": {
      "text/plain": [
       "count    1.931399e+06\n",
       "mean     1.013709e+03\n",
       "std      3.317496e+03\n",
       "min      0.000000e+00\n",
       "25%      4.010000e+02\n",
       "50%      6.770000e+02\n",
       "75%      1.122000e+03\n",
       "max      8.639500e+04\n",
       "Name: trip_duration, dtype: float64"
      ]
     },
     "execution_count": 8,
     "metadata": {},
     "output_type": "execute_result"
    }
   ],
   "source": [
    "df.trip_duration.describe()"
   ]
  },
  {
   "cell_type": "code",
   "execution_count": 9,
   "metadata": {},
   "outputs": [
    {
     "data": {
      "image/png": "[encoded data removed]",
      "text/plain": [
       "<matplotlib.figure.Figure at 0x7f5a44dc4908>"
      ]
     },
     "metadata": {},
     "output_type": "display_data"
    }
   ],
   "source": [
    "_ = sns.distplot(df.trip_duration)"
   ]
  },
  {
   "cell_type": "markdown",
   "metadata": {},
   "source": [
    "#### Hour of day and day of week"
   ]
  },
  {
   "cell_type": "code",
   "execution_count": 10,
   "metadata": {},
   "outputs": [],
   "source": [
    "def get_hour_of_day(date_time):\n",
    "    t = date_time.time()\n",
    "    return t.hour + (t.minute * 60 /3600) + (t.second / 3600)"
   ]
  },
  {
   "cell_type": "code",
   "execution_count": 11,
   "metadata": {},
   "outputs": [],
   "source": [
    "df['time_of_day_pickup'] = df.tpep_pickup_datetime.apply(get_hour_of_day)\n",
    "df['time_of_day_dropoff'] = df.tpep_dropoff_datetime.apply(get_hour_of_day)"
   ]
  },
  {
   "cell_type": "code",
   "execution_count": 12,
   "metadata": {},
   "outputs": [
    {
     "data": {
      "image/png": "[encoded data removed]",
      "text/plain": [
       "<matplotlib.figure.Figure at 0x7f5a60525e80>"
      ]
     },
     "metadata": {},
     "output_type": "display_data"
    }
   ],
   "source": [
    "fig, ax = plt.subplots(1, 2, sharex=True, figsize=(10, 5))\n",
    "sns.distplot(df.time_of_day_pickup, ax=ax[0])\n",
    "sns.distplot(df.time_of_day_dropoff, ax=ax[1])\n",
    "plt.tight_layout()"
   ]
  },
  {
   "cell_type": "code",
   "execution_count": 13,
   "metadata": {},
   "outputs": [],
   "source": [
    "def get_weekday(date_time):\n",
    "    return date_time.weekday()"
   ]
  },
  {
   "cell_type": "code",
   "execution_count": 14,
   "metadata": {},
   "outputs": [],
   "source": [
    "df['day_of_week_pickup'] = df.tpep_pickup_datetime.apply(get_weekday)\n",
    "df['day_of_week_dropoff'] = df.tpep_dropoff_datetime.apply(get_weekday)"
   ]
  },
  {
   "cell_type": "code",
   "execution_count": 15,
   "metadata": {},
   "outputs": [
    {
     "data": {
      "image/png": "[encoded data removed]",
      "text/plain": [
       "<matplotlib.figure.Figure at 0x7f5a5e093ba8>"
      ]
     },
     "metadata": {},
     "output_type": "display_data"
    }
   ],
   "source": [
    "fig, ax = plt.subplots(1, 2, figsize=(12, 5), sharex=True)\n",
    "ax1 = df.day_of_week_pickup.value_counts().plot(kind='bar', ax=ax[0])\n",
    "ax2 = df.day_of_week_dropoff.value_counts().plot(kind='bar', ax=ax[1])\n",
    "_ = ax1.set_xticklabels(['Thursday', 'Friday', 'Wednesday', 'Tuesday', 'Saturday', 'Monday', 'Sunday'])\n",
    "_ = ax2.set_xticklabels(['Thursday', 'Friday', 'Wednesday', 'Tuesday', 'Saturday', 'Monday', 'Sunday'])"
   ]
  },
  {
   "cell_type": "markdown",
   "metadata": {},
   "source": [
    "#### Hour of week"
   ]
  },
  {
   "cell_type": "code",
   "execution_count": 16,
   "metadata": {},
   "outputs": [],
   "source": [
    "df['hour_of_week_pickup'] = (df.day_of_week_pickup * 24) + np.floor(df.time_of_day_pickup)"
   ]
  },
  {
   "cell_type": "code",
   "execution_count": 17,
   "metadata": {},
   "outputs": [
    {
     "data": {
      "image/png": "[encoded data removed]",
      "text/plain": [
       "<matplotlib.figure.Figure at 0x7f5a5e2c1a58>"
      ]
     },
     "metadata": {},
     "output_type": "display_data"
    }
   ],
   "source": [
    "_ = sns.distplot(df.hour_of_week_pickup)"
   ]
  },
  {
   "cell_type": "markdown",
   "metadata": {},
   "source": [
    "#### Passenger count"
   ]
  },
  {
   "cell_type": "code",
   "execution_count": 18,
   "metadata": {},
   "outputs": [
    {
     "data": {
      "image/png": "[encoded data removed]",
      "text/plain": [
       "<matplotlib.figure.Figure at 0x7f5a3c91b128>"
      ]
     },
     "metadata": {},
     "output_type": "display_data"
    }
   ],
   "source": [
    "_ = plt.hist(df.passenger_count)\n",
    "_ = plt.xlabel('Passenger Count')"
   ]
  },
  {
   "cell_type": "markdown",
   "metadata": {},
   "source": [
    "#### Trip distance"
   ]
  },
  {
   "cell_type": "code",
   "execution_count": 19,
   "metadata": {},
   "outputs": [
    {
     "data": {
      "image/png": "[encoded data removed]",
      "text/plain": [
       "<matplotlib.figure.Figure at 0x7f5a3c82c390>"
      ]
     },
     "metadata": {},
     "output_type": "display_data"
    }
   ],
   "source": [
    "_ = sns.distplot(df.trip_distance)"
   ]
  },
  {
   "cell_type": "markdown",
   "metadata": {},
   "source": [
    "#### Ratecode ID"
   ]
  },
  {
   "cell_type": "code",
   "execution_count": 20,
   "metadata": {},
   "outputs": [
    {
     "data": {
      "image/png": "[encoded data removed]",
      "text/plain": [
       "<matplotlib.figure.Figure at 0x7f5a3c7d5d30>"
      ]
     },
     "metadata": {},
     "output_type": "display_data"
    }
   ],
   "source": [
    "_ = plt.hist(df.RatecodeID)\n",
    "plt.yscale('log')\n",
    "_ = plt.xlabel('Ratecode ID')"
   ]
  },
  {
   "cell_type": "markdown",
   "metadata": {},
   "source": [
    "#### 20 most popular pickup and dropoff locations"
   ]
  },
  {
   "cell_type": "code",
   "execution_count": 21,
   "metadata": {},
   "outputs": [
    {
     "data": {
      "image/png": "[encoded data removed]",
      "text/plain": [
       "<matplotlib.figure.Figure at 0x7f5a3c57cac8>"
      ]
     },
     "metadata": {},
     "output_type": "display_data"
    }
   ],
   "source": [
    "fig, ax = plt.subplots(1, 2, figsize=(10, 5))\n",
    "ax1 = df.PULocationID.value_counts()[0:20].plot(kind='bar', ax=ax[0])\n",
    "ax2 = df.DOLocationID.value_counts()[0:20].plot(kind='bar', ax=ax[1])\n",
    "ax1.set_xlabel('Zone ID')\n",
    "ax2.set_xlabel('Zone ID')\n",
    "plt.tight_layout()"
   ]
  },
  {
   "cell_type": "markdown",
   "metadata": {},
   "source": [
    "#### 20 most popular zones in no particular order"
   ]
  },
  {
   "cell_type": "code",
   "execution_count": 22,
   "metadata": {},
   "outputs": [
    {
     "data": {
      "text/html": [
       "<div>\n",
       "<style scoped>\n",
       "    .dataframe tbody tr th:only-of-type {\n",
       "        vertical-align: middle;\n",
       "    }\n",
       "\n",
       "    .dataframe tbody tr th {\n",
       "        vertical-align: top;\n",
       "    }\n",
       "\n",
       "    .dataframe thead th {\n",
       "        text-align: right;\n",
       "    }\n",
       "</style>\n",
       "<table border=\"1\" class=\"dataframe\">\n",
       "  <thead>\n",
       "    <tr style=\"text-align: right;\">\n",
       "      <th></th>\n",
       "      <th>LocationID</th>\n",
       "      <th>Borough</th>\n",
       "      <th>Zone</th>\n",
       "      <th>service_zone</th>\n",
       "    </tr>\n",
       "  </thead>\n",
       "  <tbody>\n",
       "    <tr>\n",
       "      <th>47</th>\n",
       "      <td>48</td>\n",
       "      <td>Manhattan</td>\n",
       "      <td>Clinton East</td>\n",
       "      <td>Yellow Zone</td>\n",
       "    </tr>\n",
       "    <tr>\n",
       "      <th>67</th>\n",
       "      <td>68</td>\n",
       "      <td>Manhattan</td>\n",
       "      <td>East Chelsea</td>\n",
       "      <td>Yellow Zone</td>\n",
       "    </tr>\n",
       "    <tr>\n",
       "      <th>78</th>\n",
       "      <td>79</td>\n",
       "      <td>Manhattan</td>\n",
       "      <td>East Village</td>\n",
       "      <td>Yellow Zone</td>\n",
       "    </tr>\n",
       "    <tr>\n",
       "      <th>106</th>\n",
       "      <td>107</td>\n",
       "      <td>Manhattan</td>\n",
       "      <td>Gramercy</td>\n",
       "      <td>Yellow Zone</td>\n",
       "    </tr>\n",
       "    <tr>\n",
       "      <th>131</th>\n",
       "      <td>132</td>\n",
       "      <td>Queens</td>\n",
       "      <td>JFK Airport</td>\n",
       "      <td>Airports</td>\n",
       "    </tr>\n",
       "    <tr>\n",
       "      <th>137</th>\n",
       "      <td>138</td>\n",
       "      <td>Queens</td>\n",
       "      <td>LaGuardia Airport</td>\n",
       "      <td>Airports</td>\n",
       "    </tr>\n",
       "    <tr>\n",
       "      <th>140</th>\n",
       "      <td>141</td>\n",
       "      <td>Manhattan</td>\n",
       "      <td>Lenox Hill West</td>\n",
       "      <td>Yellow Zone</td>\n",
       "    </tr>\n",
       "    <tr>\n",
       "      <th>141</th>\n",
       "      <td>142</td>\n",
       "      <td>Manhattan</td>\n",
       "      <td>Lincoln Square East</td>\n",
       "      <td>Yellow Zone</td>\n",
       "    </tr>\n",
       "    <tr>\n",
       "      <th>160</th>\n",
       "      <td>161</td>\n",
       "      <td>Manhattan</td>\n",
       "      <td>Midtown Center</td>\n",
       "      <td>Yellow Zone</td>\n",
       "    </tr>\n",
       "    <tr>\n",
       "      <th>161</th>\n",
       "      <td>162</td>\n",
       "      <td>Manhattan</td>\n",
       "      <td>Midtown East</td>\n",
       "      <td>Yellow Zone</td>\n",
       "    </tr>\n",
       "    <tr>\n",
       "      <th>162</th>\n",
       "      <td>163</td>\n",
       "      <td>Manhattan</td>\n",
       "      <td>Midtown North</td>\n",
       "      <td>Yellow Zone</td>\n",
       "    </tr>\n",
       "    <tr>\n",
       "      <th>163</th>\n",
       "      <td>164</td>\n",
       "      <td>Manhattan</td>\n",
       "      <td>Midtown South</td>\n",
       "      <td>Yellow Zone</td>\n",
       "    </tr>\n",
       "    <tr>\n",
       "      <th>169</th>\n",
       "      <td>170</td>\n",
       "      <td>Manhattan</td>\n",
       "      <td>Murray Hill</td>\n",
       "      <td>Yellow Zone</td>\n",
       "    </tr>\n",
       "    <tr>\n",
       "      <th>185</th>\n",
       "      <td>186</td>\n",
       "      <td>Manhattan</td>\n",
       "      <td>Penn Station/Madison Sq West</td>\n",
       "      <td>Yellow Zone</td>\n",
       "    </tr>\n",
       "    <tr>\n",
       "      <th>229</th>\n",
       "      <td>230</td>\n",
       "      <td>Manhattan</td>\n",
       "      <td>Times Sq/Theatre District</td>\n",
       "      <td>Yellow Zone</td>\n",
       "    </tr>\n",
       "    <tr>\n",
       "      <th>233</th>\n",
       "      <td>234</td>\n",
       "      <td>Manhattan</td>\n",
       "      <td>Union Sq</td>\n",
       "      <td>Yellow Zone</td>\n",
       "    </tr>\n",
       "    <tr>\n",
       "      <th>235</th>\n",
       "      <td>236</td>\n",
       "      <td>Manhattan</td>\n",
       "      <td>Upper East Side North</td>\n",
       "      <td>Yellow Zone</td>\n",
       "    </tr>\n",
       "    <tr>\n",
       "      <th>236</th>\n",
       "      <td>237</td>\n",
       "      <td>Manhattan</td>\n",
       "      <td>Upper East Side South</td>\n",
       "      <td>Yellow Zone</td>\n",
       "    </tr>\n",
       "    <tr>\n",
       "      <th>238</th>\n",
       "      <td>239</td>\n",
       "      <td>Manhattan</td>\n",
       "      <td>Upper West Side South</td>\n",
       "      <td>Yellow Zone</td>\n",
       "    </tr>\n",
       "    <tr>\n",
       "      <th>248</th>\n",
       "      <td>249</td>\n",
       "      <td>Manhattan</td>\n",
       "      <td>West Village</td>\n",
       "      <td>Yellow Zone</td>\n",
       "    </tr>\n",
       "  </tbody>\n",
       "</table>\n",
       "</div>"
      ],
      "text/plain": [
       "     LocationID    Borough                          Zone service_zone\n",
       "47           48  Manhattan                  Clinton East  Yellow Zone\n",
       "67           68  Manhattan                  East Chelsea  Yellow Zone\n",
       "78           79  Manhattan                  East Village  Yellow Zone\n",
       "106         107  Manhattan                      Gramercy  Yellow Zone\n",
       "131         132     Queens                   JFK Airport     Airports\n",
       "137         138     Queens             LaGuardia Airport     Airports\n",
       "140         141  Manhattan               Lenox Hill West  Yellow Zone\n",
       "141         142  Manhattan           Lincoln Square East  Yellow Zone\n",
       "160         161  Manhattan                Midtown Center  Yellow Zone\n",
       "161         162  Manhattan                  Midtown East  Yellow Zone\n",
       "162         163  Manhattan                 Midtown North  Yellow Zone\n",
       "163         164  Manhattan                 Midtown South  Yellow Zone\n",
       "169         170  Manhattan                   Murray Hill  Yellow Zone\n",
       "185         186  Manhattan  Penn Station/Madison Sq West  Yellow Zone\n",
       "229         230  Manhattan     Times Sq/Theatre District  Yellow Zone\n",
       "233         234  Manhattan                      Union Sq  Yellow Zone\n",
       "235         236  Manhattan         Upper East Side North  Yellow Zone\n",
       "236         237  Manhattan         Upper East Side South  Yellow Zone\n",
       "238         239  Manhattan         Upper West Side South  Yellow Zone\n",
       "248         249  Manhattan                  West Village  Yellow Zone"
      ]
     },
     "execution_count": 22,
     "metadata": {},
     "output_type": "execute_result"
    }
   ],
   "source": [
    "zone_lookup[zone_lookup.LocationID.isin(df.PULocationID.value_counts()[0:20].index)]"
   ]
  },
  {
   "cell_type": "code",
   "execution_count": 23,
   "metadata": {},
   "outputs": [
    {
     "data": {
      "image/png": "[encoded data removed]",
      "text/plain": [
       "<matplotlib.figure.Figure at 0x7f5a3c6d9400>"
      ]
     },
     "metadata": {},
     "output_type": "display_data"
    }
   ],
   "source": [
    "_ = plt.hist(df.payment_type)"
   ]
  },
  {
   "cell_type": "markdown",
   "metadata": {},
   "source": [
    "#### Tip amounts are not recorded when it is a cash payment. To make the data more consistent, the average tip for credit card payments is calculated and used as the tip value for cash cab rides"
   ]
  },
  {
   "cell_type": "code",
   "execution_count": 24,
   "metadata": {},
   "outputs": [],
   "source": [
    "credit_card_tip_mean = pd.Series(df[df.payment_type == 1].tip_amount.mean())"
   ]
  },
  {
   "cell_type": "code",
   "execution_count": 25,
   "metadata": {},
   "outputs": [],
   "source": [
    "df.tip_amount = np.where(df.payment_type == 2, credit_card_tip_mean, df.tip_amount)"
   ]
  },
  {
   "cell_type": "code",
   "execution_count": 26,
   "metadata": {},
   "outputs": [
    {
     "data": {
      "image/png": "[encoded data removed]",
      "text/plain": [
       "<matplotlib.figure.Figure at 0x7f5a3c281dd8>"
      ]
     },
     "metadata": {},
     "output_type": "display_data"
    }
   ],
   "source": [
    "_ = sns.distplot(df.tip_amount)"
   ]
  },
  {
   "cell_type": "markdown",
   "metadata": {},
   "source": [
    "#### The total amount also needs to be updated to account for cash tips"
   ]
  },
  {
   "cell_type": "code",
   "execution_count": 27,
   "metadata": {},
   "outputs": [],
   "source": [
    "df.total_amount = np.where(df.payment_type == 2, df.total_amount + credit_card_tip_mean.iloc[0], df.total_amount)"
   ]
  },
  {
   "cell_type": "code",
   "execution_count": 28,
   "metadata": {},
   "outputs": [
    {
     "data": {
      "image/png": "[encoded data removed]",
      "text/plain": [
       "<matplotlib.figure.Figure at 0x7f5a3c211d30>"
      ]
     },
     "metadata": {},
     "output_type": "display_data"
    }
   ],
   "source": [
    "_ = sns.distplot(df.total_amount)"
   ]
  },
  {
   "cell_type": "markdown",
   "metadata": {},
   "source": [
    "#### Gross profit for a given ride is calculated as the sum of the fare amount the extra charges and the tip, subtracting the wear and tear on the car. Wear and tear on the car is subtracted because most cab drivers own their cars, and the 2017 IRS business mile cost of \\$0.535 is used."
   ]
  },
  {
   "cell_type": "code",
   "execution_count": 29,
   "metadata": {},
   "outputs": [],
   "source": [
    "df['gross_profit'] = df.fare_amount + df.extra + df.tip_amount - (df.trip_distance * 0.535)"
   ]
  },
  {
   "cell_type": "code",
   "execution_count": 30,
   "metadata": {},
   "outputs": [
    {
     "data": {
      "image/png": "[encoded data removed]",
      "text/plain": [
       "<matplotlib.figure.Figure at 0x7f5a34c38d68>"
      ]
     },
     "metadata": {},
     "output_type": "display_data"
    }
   ],
   "source": [
    "_ = sns.distplot(df.gross_profit)"
   ]
  },
  {
   "cell_type": "code",
   "execution_count": 31,
   "metadata": {},
   "outputs": [],
   "source": [
    "zone_borough_dict = {}\n",
    "for index, row in zone_lookup.iterrows():\n",
    "    zone_borough_dict[row['LocationID']] = row['Borough']"
   ]
  },
  {
   "cell_type": "code",
   "execution_count": 32,
   "metadata": {},
   "outputs": [],
   "source": [
    "def get_borough(location_id):\n",
    "    return zone_borough_dict[location_id]"
   ]
  },
  {
   "cell_type": "code",
   "execution_count": 33,
   "metadata": {},
   "outputs": [],
   "source": [
    "df['pickup_borough'] = df.PULocationID.apply(get_borough)\n",
    "df['dropoff_borough'] = df.DOLocationID.apply(get_borough)"
   ]
  },
  {
   "cell_type": "code",
   "execution_count": 34,
   "metadata": {},
   "outputs": [
    {
     "data": {
      "image/png": "[encoded data removed]",
      "text/plain": [
       "<matplotlib.figure.Figure at 0x7f5a34b47d68>"
      ]
     },
     "metadata": {},
     "output_type": "display_data"
    }
   ],
   "source": [
    "_ = df.pickup_borough.value_counts().plot(kind='bar')"
   ]
  },
  {
   "cell_type": "markdown",
   "metadata": {},
   "source": [
    "## Assumptions and Cleanup\n",
    "### Assumptions:\n",
    "- Trip duration is greater than 1 minute and less than 1.5 hours, as anything outside these bounds is viewed as an outlier\n",
    "- Data with only a date and no hour, minute, second for pickup of dropoff will be discarded\n",
    "- Data with a passenger count of 0 will be discarded\n",
    "- Trip distances over 30 miles will be discarded, as these are viewed as outliers\n",
    "- Negative fare amounts and fair amounts over \\$200 will be discarded as outliers or bad data\n",
    "- Tip amounts above \\$100 will be discarded as these are viewed as outliers\n",
    "- A profit per minute below \\$0 is viewed as bad data\n",
    "- A profit per minute above \\$15 is seen as an outlier\n",
    "- Passenger counts greater than 6 are dropped as there are so few of these datapoints to make any meaningful conclusions"
   ]
  },
  {
   "cell_type": "markdown",
   "metadata": {},
   "source": [
    "#### To view how much data is dropped in cleaning, we will look at the size of the dataframe before and after cleaning"
   ]
  },
  {
   "cell_type": "code",
   "execution_count": 35,
   "metadata": {},
   "outputs": [],
   "source": [
    "original_size = df.shape[0]"
   ]
  },
  {
   "cell_type": "code",
   "execution_count": 36,
   "metadata": {},
   "outputs": [],
   "source": [
    "df = df[(df.trip_duration > 60) & (df.trip_duration < 3600 * 1.5)]\n",
    "df = df[(df.time_of_day_pickup != 0) & (df.time_of_day_dropoff != 0)]\n",
    "df = df[df.passenger_count > 0]\n",
    "df = df[df.trip_distance < 30]\n",
    "df = df[(df.fare_amount > 0) & (df.fare_amount < 200)]\n",
    "df = df[df.tip_amount < 100]\n",
    "df = df[df.passenger_count < 7]"
   ]
  },
  {
   "cell_type": "markdown",
   "metadata": {},
   "source": [
    "#### Now that the data is clean, create a profit per minute variable"
   ]
  },
  {
   "cell_type": "code",
   "execution_count": 37,
   "metadata": {},
   "outputs": [],
   "source": [
    "df['profit_per_minute'] = df.gross_profit / (df.trip_duration / 60)"
   ]
  },
  {
   "cell_type": "code",
   "execution_count": 38,
   "metadata": {},
   "outputs": [
    {
     "data": {
      "image/png": "[encoded data removed]",
      "text/plain": [
       "<matplotlib.figure.Figure at 0x7f5a34773128>"
      ]
     },
     "metadata": {},
     "output_type": "display_data"
    }
   ],
   "source": [
    "_ = sns.distplot(df.profit_per_minute)"
   ]
  },
  {
   "cell_type": "code",
   "execution_count": 39,
   "metadata": {},
   "outputs": [],
   "source": [
    "df = df[(df.profit_per_minute > 0) & (df.profit_per_minute < 15)]"
   ]
  },
  {
   "cell_type": "code",
   "execution_count": 40,
   "metadata": {},
   "outputs": [
    {
     "name": "stdout",
     "output_type": "stream",
     "text": [
      "Percent of data dropped in cleanup:  1.2882371793710155\n"
     ]
    }
   ],
   "source": [
    "new_size = df.shape[0]\n",
    "print('Percent of data dropped in cleanup: ', (original_size - new_size) / original_size * 100)"
   ]
  },
  {
   "cell_type": "markdown",
   "metadata": {},
   "source": [
    "###  Now that the data is cleaned, reinspect some of the key variables"
   ]
  },
  {
   "cell_type": "markdown",
   "metadata": {},
   "source": [
    "#### Tip amount"
   ]
  },
  {
   "cell_type": "code",
   "execution_count": 41,
   "metadata": {},
   "outputs": [
    {
     "data": {
      "image/png": "[encoded data removed]",
      "text/plain": [
       "<matplotlib.figure.Figure at 0x7f5a34b34be0>"
      ]
     },
     "metadata": {},
     "output_type": "display_data"
    }
   ],
   "source": [
    "_ = sns.distplot(df.tip_amount)"
   ]
  },
  {
   "cell_type": "markdown",
   "metadata": {},
   "source": [
    "#### Trip distance"
   ]
  },
  {
   "cell_type": "code",
   "execution_count": 42,
   "metadata": {},
   "outputs": [
    {
     "data": {
      "image/png": "[encoded data removed]",
      "text/plain": [
       "<matplotlib.figure.Figure at 0x7f5a3c67db38>"
      ]
     },
     "metadata": {},
     "output_type": "display_data"
    }
   ],
   "source": [
    "_ = sns.distplot(df.trip_distance)"
   ]
  },
  {
   "cell_type": "markdown",
   "metadata": {},
   "source": [
    "#### Trip duration"
   ]
  },
  {
   "cell_type": "code",
   "execution_count": 43,
   "metadata": {},
   "outputs": [
    {
     "data": {
      "image/png": "[encoded data removed]",
      "text/plain": [
       "<matplotlib.figure.Figure at 0x7f5a34b118d0>"
      ]
     },
     "metadata": {},
     "output_type": "display_data"
    }
   ],
   "source": [
    "_ = sns.distplot(df.trip_duration)"
   ]
  },
  {
   "cell_type": "markdown",
   "metadata": {},
   "source": [
    "#### Profit per minute"
   ]
  },
  {
   "cell_type": "code",
   "execution_count": 44,
   "metadata": {},
   "outputs": [
    {
     "data": {
      "image/png": "[encoded data removed]",
      "text/plain": [
       "<matplotlib.figure.Figure at 0x7f5a3c6c2da0>"
      ]
     },
     "metadata": {},
     "output_type": "display_data"
    }
   ],
   "source": [
    "_ = sns.distplot(df.profit_per_minute)"
   ]
  },
  {
   "cell_type": "markdown",
   "metadata": {},
   "source": [
    "## Analysis"
   ]
  },
  {
   "cell_type": "markdown",
   "metadata": {},
   "source": [
    "### Linear regression"
   ]
  },
  {
   "cell_type": "code",
   "execution_count": 45,
   "metadata": {},
   "outputs": [
    {
     "name": "stderr",
     "output_type": "stream",
     "text": [
      "/home/lance/anaconda3/lib/python3.6/site-packages/statsmodels/compat/pandas.py:56: FutureWarning: The pandas.core.datetools module is deprecated and will be removed in a future version. Please use the pandas.tseries module instead.\n",
      "  from pandas.core import datetools\n"
     ]
    }
   ],
   "source": [
    "import statsmodels.api as sm"
   ]
  },
  {
   "cell_type": "markdown",
   "metadata": {},
   "source": [
    "### Examine how key variables affect profit per minute"
   ]
  },
  {
   "cell_type": "code",
   "execution_count": 46,
   "metadata": {},
   "outputs": [],
   "source": [
    "y = df.profit_per_minute"
   ]
  },
  {
   "cell_type": "markdown",
   "metadata": {},
   "source": [
    "#### Day of week and profit per minute"
   ]
  },
  {
   "cell_type": "code",
   "execution_count": 47,
   "metadata": {},
   "outputs": [],
   "source": [
    "X = pd.get_dummies(df.day_of_week_pickup, prefix='day_of_week_pickup')"
   ]
  },
  {
   "cell_type": "code",
   "execution_count": 48,
   "metadata": {},
   "outputs": [],
   "source": [
    "model = sm.OLS(y, X).fit()"
   ]
  },
  {
   "cell_type": "code",
   "execution_count": 49,
   "metadata": {},
   "outputs": [
    {
     "data": {
      "text/html": [
       "<table class=\"simpletable\">\n",
       "<caption>OLS Regression Results</caption>\n",
       "<tr>\n",
       "  <th>Dep. Variable:</th>    <td>profit_per_minute</td> <th>  R-squared:         </th>  <td>   0.005</td>  \n",
       "</tr>\n",
       "<tr>\n",
       "  <th>Model:</th>                   <td>OLS</td>        <th>  Adj. R-squared:    </th>  <td>   0.005</td>  \n",
       "</tr>\n",
       "<tr>\n",
       "  <th>Method:</th>             <td>Least Squares</td>   <th>  F-statistic:       </th>  <td>   1560.</td>  \n",
       "</tr>\n",
       "<tr>\n",
       "  <th>Date:</th>             <td>Sun, 10 Mar 2019</td>  <th>  Prob (F-statistic):</th>   <td>  0.00</td>   \n",
       "</tr>\n",
       "<tr>\n",
       "  <th>Time:</th>                 <td>14:29:07</td>      <th>  Log-Likelihood:    </th> <td>-1.4020e+06</td>\n",
       "</tr>\n",
       "<tr>\n",
       "  <th>No. Observations:</th>      <td>1906518</td>      <th>  AIC:               </th>  <td>2.804e+06</td> \n",
       "</tr>\n",
       "<tr>\n",
       "  <th>Df Residuals:</th>          <td>1906511</td>      <th>  BIC:               </th>  <td>2.804e+06</td> \n",
       "</tr>\n",
       "<tr>\n",
       "  <th>Df Model:</th>              <td>     6</td>       <th>                     </th>      <td> </td>     \n",
       "</tr>\n",
       "<tr>\n",
       "  <th>Covariance Type:</th>      <td>nonrobust</td>     <th>                     </th>      <td> </td>     \n",
       "</tr>\n",
       "</table>\n",
       "<table class=\"simpletable\">\n",
       "<tr>\n",
       "            <td></td>              <th>coef</th>     <th>std err</th>      <th>t</th>      <th>P>|t|</th>  <th>[0.025</th>    <th>0.975]</th>  \n",
       "</tr>\n",
       "<tr>\n",
       "  <th>day_of_week_pickup_0</th> <td>    1.1952</td> <td>    0.001</td> <td> 1158.494</td> <td> 0.000</td> <td>    1.193</td> <td>    1.197</td>\n",
       "</tr>\n",
       "<tr>\n",
       "  <th>day_of_week_pickup_1</th> <td>    1.1434</td> <td>    0.001</td> <td> 1155.108</td> <td> 0.000</td> <td>    1.141</td> <td>    1.145</td>\n",
       "</tr>\n",
       "<tr>\n",
       "  <th>day_of_week_pickup_2</th> <td>    1.1288</td> <td>    0.001</td> <td> 1149.843</td> <td> 0.000</td> <td>    1.127</td> <td>    1.131</td>\n",
       "</tr>\n",
       "<tr>\n",
       "  <th>day_of_week_pickup_3</th> <td>    1.1241</td> <td>    0.001</td> <td> 1288.722</td> <td> 0.000</td> <td>    1.122</td> <td>    1.126</td>\n",
       "</tr>\n",
       "<tr>\n",
       "  <th>day_of_week_pickup_4</th> <td>    1.1477</td> <td>    0.001</td> <td> 1306.918</td> <td> 0.000</td> <td>    1.146</td> <td>    1.149</td>\n",
       "</tr>\n",
       "<tr>\n",
       "  <th>day_of_week_pickup_5</th> <td>    1.1784</td> <td>    0.001</td> <td> 1190.287</td> <td> 0.000</td> <td>    1.176</td> <td>    1.180</td>\n",
       "</tr>\n",
       "<tr>\n",
       "  <th>day_of_week_pickup_6</th> <td>    1.2340</td> <td>    0.001</td> <td> 1139.224</td> <td> 0.000</td> <td>    1.232</td> <td>    1.236</td>\n",
       "</tr>\n",
       "</table>\n",
       "<table class=\"simpletable\">\n",
       "<tr>\n",
       "  <th>Omnibus:</th>       <td>1773966.278</td> <th>  Durbin-Watson:     </th>   <td>   1.998</td>   \n",
       "</tr>\n",
       "<tr>\n",
       "  <th>Prob(Omnibus):</th>   <td> 0.000</td>    <th>  Jarque-Bera (JB):  </th> <td>156227745.992</td>\n",
       "</tr>\n",
       "<tr>\n",
       "  <th>Skew:</th>            <td> 4.235</td>    <th>  Prob(JB):          </th>   <td>    0.00</td>   \n",
       "</tr>\n",
       "<tr>\n",
       "  <th>Kurtosis:</th>        <td>46.531</td>    <th>  Cond. No.          </th>   <td>    1.24</td>   \n",
       "</tr>\n",
       "</table>"
      ],
      "text/plain": [
       "<class 'statsmodels.iolib.summary.Summary'>\n",
       "\"\"\"\n",
       "                            OLS Regression Results                            \n",
       "==============================================================================\n",
       "Dep. Variable:      profit_per_minute   R-squared:                       0.005\n",
       "Model:                            OLS   Adj. R-squared:                  0.005\n",
       "Method:                 Least Squares   F-statistic:                     1560.\n",
       "Date:                Sun, 10 Mar 2019   Prob (F-statistic):               0.00\n",
       "Time:                        14:29:07   Log-Likelihood:            -1.4020e+06\n",
       "No. Observations:             1906518   AIC:                         2.804e+06\n",
       "Df Residuals:                 1906511   BIC:                         2.804e+06\n",
       "Df Model:                           6                                         \n",
       "Covariance Type:            nonrobust                                         \n",
       "========================================================================================\n",
       "                           coef    std err          t      P>|t|      [0.025      0.975]\n",
       "----------------------------------------------------------------------------------------\n",
       "day_of_week_pickup_0     1.1952      0.001   1158.494      0.000       1.193       1.197\n",
       "day_of_week_pickup_1     1.1434      0.001   1155.108      0.000       1.141       1.145\n",
       "day_of_week_pickup_2     1.1288      0.001   1149.843      0.000       1.127       1.131\n",
       "day_of_week_pickup_3     1.1241      0.001   1288.722      0.000       1.122       1.126\n",
       "day_of_week_pickup_4     1.1477      0.001   1306.918      0.000       1.146       1.149\n",
       "day_of_week_pickup_5     1.1784      0.001   1190.287      0.000       1.176       1.180\n",
       "day_of_week_pickup_6     1.2340      0.001   1139.224      0.000       1.232       1.236\n",
       "==============================================================================\n",
       "Omnibus:                  1773966.278   Durbin-Watson:                   1.998\n",
       "Prob(Omnibus):                  0.000   Jarque-Bera (JB):        156227745.992\n",
       "Skew:                           4.235   Prob(JB):                         0.00\n",
       "Kurtosis:                      46.531   Cond. No.                         1.24\n",
       "==============================================================================\n",
       "\n",
       "Warnings:\n",
       "[1] Standard Errors assume that the covariance matrix of the errors is correctly specified.\n",
       "\"\"\""
      ]
     },
     "execution_count": 49,
     "metadata": {},
     "output_type": "execute_result"
    }
   ],
   "source": [
    "model.summary()"
   ]
  },
  {
   "cell_type": "markdown",
   "metadata": {},
   "source": [
    "#### Passenger count and profit per minute"
   ]
  },
  {
   "cell_type": "code",
   "execution_count": 50,
   "metadata": {},
   "outputs": [],
   "source": [
    "X = pd.get_dummies(df.passenger_count, prefix='passenger_count')"
   ]
  },
  {
   "cell_type": "code",
   "execution_count": 51,
   "metadata": {},
   "outputs": [],
   "source": [
    "model = sm.OLS(y, X).fit()"
   ]
  },
  {
   "cell_type": "code",
   "execution_count": 52,
   "metadata": {},
   "outputs": [
    {
     "data": {
      "text/html": [
       "<table class=\"simpletable\">\n",
       "<caption>OLS Regression Results</caption>\n",
       "<tr>\n",
       "  <th>Dep. Variable:</th>    <td>profit_per_minute</td> <th>  R-squared:         </th>  <td>   0.000</td>  \n",
       "</tr>\n",
       "<tr>\n",
       "  <th>Model:</th>                   <td>OLS</td>        <th>  Adj. R-squared:    </th>  <td>   0.000</td>  \n",
       "</tr>\n",
       "<tr>\n",
       "  <th>Method:</th>             <td>Least Squares</td>   <th>  F-statistic:       </th>  <td>   114.0</td>  \n",
       "</tr>\n",
       "<tr>\n",
       "  <th>Date:</th>             <td>Sun, 10 Mar 2019</td>  <th>  Prob (F-statistic):</th>  <td>6.48e-121</td> \n",
       "</tr>\n",
       "<tr>\n",
       "  <th>Time:</th>                 <td>14:29:09</td>      <th>  Log-Likelihood:    </th> <td>-1.4064e+06</td>\n",
       "</tr>\n",
       "<tr>\n",
       "  <th>No. Observations:</th>      <td>1906518</td>      <th>  AIC:               </th>  <td>2.813e+06</td> \n",
       "</tr>\n",
       "<tr>\n",
       "  <th>Df Residuals:</th>          <td>1906512</td>      <th>  BIC:               </th>  <td>2.813e+06</td> \n",
       "</tr>\n",
       "<tr>\n",
       "  <th>Df Model:</th>              <td>     5</td>       <th>                     </th>      <td> </td>     \n",
       "</tr>\n",
       "<tr>\n",
       "  <th>Covariance Type:</th>      <td>nonrobust</td>     <th>                     </th>      <td> </td>     \n",
       "</tr>\n",
       "</table>\n",
       "<table class=\"simpletable\">\n",
       "<tr>\n",
       "          <td></td>             <th>coef</th>     <th>std err</th>      <th>t</th>      <th>P>|t|</th>  <th>[0.025</th>    <th>0.975]</th>  \n",
       "</tr>\n",
       "<tr>\n",
       "  <th>passenger_count_1</th> <td>    1.1651</td> <td>    0.000</td> <td> 2692.701</td> <td> 0.000</td> <td>    1.164</td> <td>    1.166</td>\n",
       "</tr>\n",
       "<tr>\n",
       "  <th>passenger_count_2</th> <td>    1.1456</td> <td>    0.001</td> <td> 1186.419</td> <td> 0.000</td> <td>    1.144</td> <td>    1.147</td>\n",
       "</tr>\n",
       "<tr>\n",
       "  <th>passenger_count_3</th> <td>    1.1407</td> <td>    0.002</td> <td>  639.768</td> <td> 0.000</td> <td>    1.137</td> <td>    1.144</td>\n",
       "</tr>\n",
       "<tr>\n",
       "  <th>passenger_count_4</th> <td>    1.1352</td> <td>    0.003</td> <td>  433.375</td> <td> 0.000</td> <td>    1.130</td> <td>    1.140</td>\n",
       "</tr>\n",
       "<tr>\n",
       "  <th>passenger_count_5</th> <td>    1.1604</td> <td>    0.002</td> <td>  687.127</td> <td> 0.000</td> <td>    1.157</td> <td>    1.164</td>\n",
       "</tr>\n",
       "<tr>\n",
       "  <th>passenger_count_6</th> <td>    1.1598</td> <td>    0.002</td> <td>  547.239</td> <td> 0.000</td> <td>    1.156</td> <td>    1.164</td>\n",
       "</tr>\n",
       "</table>\n",
       "<table class=\"simpletable\">\n",
       "<tr>\n",
       "  <th>Omnibus:</th>       <td>1767519.205</td> <th>  Durbin-Watson:     </th>   <td>   1.998</td>   \n",
       "</tr>\n",
       "<tr>\n",
       "  <th>Prob(Omnibus):</th>   <td> 0.000</td>    <th>  Jarque-Bera (JB):  </th> <td>153649208.981</td>\n",
       "</tr>\n",
       "<tr>\n",
       "  <th>Skew:</th>            <td> 4.214</td>    <th>  Prob(JB):          </th>   <td>    0.00</td>   \n",
       "</tr>\n",
       "<tr>\n",
       "  <th>Kurtosis:</th>        <td>46.164</td>    <th>  Cond. No.          </th>   <td>    6.05</td>   \n",
       "</tr>\n",
       "</table>"
      ],
      "text/plain": [
       "<class 'statsmodels.iolib.summary.Summary'>\n",
       "\"\"\"\n",
       "                            OLS Regression Results                            \n",
       "==============================================================================\n",
       "Dep. Variable:      profit_per_minute   R-squared:                       0.000\n",
       "Model:                            OLS   Adj. R-squared:                  0.000\n",
       "Method:                 Least Squares   F-statistic:                     114.0\n",
       "Date:                Sun, 10 Mar 2019   Prob (F-statistic):          6.48e-121\n",
       "Time:                        14:29:09   Log-Likelihood:            -1.4064e+06\n",
       "No. Observations:             1906518   AIC:                         2.813e+06\n",
       "Df Residuals:                 1906512   BIC:                         2.813e+06\n",
       "Df Model:                           5                                         \n",
       "Covariance Type:            nonrobust                                         \n",
       "=====================================================================================\n",
       "                        coef    std err          t      P>|t|      [0.025      0.975]\n",
       "-------------------------------------------------------------------------------------\n",
       "passenger_count_1     1.1651      0.000   2692.701      0.000       1.164       1.166\n",
       "passenger_count_2     1.1456      0.001   1186.419      0.000       1.144       1.147\n",
       "passenger_count_3     1.1407      0.002    639.768      0.000       1.137       1.144\n",
       "passenger_count_4     1.1352      0.003    433.375      0.000       1.130       1.140\n",
       "passenger_count_5     1.1604      0.002    687.127      0.000       1.157       1.164\n",
       "passenger_count_6     1.1598      0.002    547.239      0.000       1.156       1.164\n",
       "==============================================================================\n",
       "Omnibus:                  1767519.205   Durbin-Watson:                   1.998\n",
       "Prob(Omnibus):                  0.000   Jarque-Bera (JB):        153649208.981\n",
       "Skew:                           4.214   Prob(JB):                         0.00\n",
       "Kurtosis:                      46.164   Cond. No.                         6.05\n",
       "==============================================================================\n",
       "\n",
       "Warnings:\n",
       "[1] Standard Errors assume that the covariance matrix of the errors is correctly specified.\n",
       "\"\"\""
      ]
     },
     "execution_count": 52,
     "metadata": {},
     "output_type": "execute_result"
    }
   ],
   "source": [
    "model.summary()"
   ]
  },
  {
   "cell_type": "markdown",
   "metadata": {},
   "source": [
    "#### Payment type and profit per minute"
   ]
  },
  {
   "cell_type": "code",
   "execution_count": 53,
   "metadata": {},
   "outputs": [],
   "source": [
    "X = pd.get_dummies(df.payment_type, prefix='payment_type')"
   ]
  },
  {
   "cell_type": "code",
   "execution_count": 54,
   "metadata": {},
   "outputs": [],
   "source": [
    "model = sm.OLS(y, X).fit()"
   ]
  },
  {
   "cell_type": "code",
   "execution_count": 55,
   "metadata": {},
   "outputs": [
    {
     "data": {
      "text/html": [
       "<table class=\"simpletable\">\n",
       "<caption>OLS Regression Results</caption>\n",
       "<tr>\n",
       "  <th>Dep. Variable:</th>    <td>profit_per_minute</td> <th>  R-squared:         </th>  <td>   0.032</td>  \n",
       "</tr>\n",
       "<tr>\n",
       "  <th>Model:</th>                   <td>OLS</td>        <th>  Adj. R-squared:    </th>  <td>   0.032</td>  \n",
       "</tr>\n",
       "<tr>\n",
       "  <th>Method:</th>             <td>Least Squares</td>   <th>  F-statistic:       </th>  <td>2.127e+04</td> \n",
       "</tr>\n",
       "<tr>\n",
       "  <th>Date:</th>             <td>Sun, 10 Mar 2019</td>  <th>  Prob (F-statistic):</th>   <td>  0.00</td>   \n",
       "</tr>\n",
       "<tr>\n",
       "  <th>Time:</th>                 <td>14:29:11</td>      <th>  Log-Likelihood:    </th> <td>-1.3753e+06</td>\n",
       "</tr>\n",
       "<tr>\n",
       "  <th>No. Observations:</th>      <td>1906518</td>      <th>  AIC:               </th>  <td>2.751e+06</td> \n",
       "</tr>\n",
       "<tr>\n",
       "  <th>Df Residuals:</th>          <td>1906514</td>      <th>  BIC:               </th>  <td>2.751e+06</td> \n",
       "</tr>\n",
       "<tr>\n",
       "  <th>Df Model:</th>              <td>     3</td>       <th>                     </th>      <td> </td>     \n",
       "</tr>\n",
       "<tr>\n",
       "  <th>Covariance Type:</th>      <td>nonrobust</td>     <th>                     </th>      <td> </td>     \n",
       "</tr>\n",
       "</table>\n",
       "<table class=\"simpletable\">\n",
       "<tr>\n",
       "         <td></td>           <th>coef</th>     <th>std err</th>      <th>t</th>      <th>P>|t|</th>  <th>[0.025</th>    <th>0.975]</th>  \n",
       "</tr>\n",
       "<tr>\n",
       "  <th>payment_type_1</th> <td>    1.0989</td> <td>    0.000</td> <td> 2509.173</td> <td> 0.000</td> <td>    1.098</td> <td>    1.100</td>\n",
       "</tr>\n",
       "<tr>\n",
       "  <th>payment_type_2</th> <td>    1.2937</td> <td>    0.001</td> <td> 2020.696</td> <td> 0.000</td> <td>    1.292</td> <td>    1.295</td>\n",
       "</tr>\n",
       "<tr>\n",
       "  <th>payment_type_3</th> <td>    1.0538</td> <td>    0.006</td> <td>  183.966</td> <td> 0.000</td> <td>    1.043</td> <td>    1.065</td>\n",
       "</tr>\n",
       "<tr>\n",
       "  <th>payment_type_4</th> <td>    0.9699</td> <td>    0.010</td> <td>   98.297</td> <td> 0.000</td> <td>    0.951</td> <td>    0.989</td>\n",
       "</tr>\n",
       "</table>\n",
       "<table class=\"simpletable\">\n",
       "<tr>\n",
       "  <th>Omnibus:</th>       <td>1757241.061</td> <th>  Durbin-Watson:     </th>   <td>   1.999</td>   \n",
       "</tr>\n",
       "<tr>\n",
       "  <th>Prob(Omnibus):</th>   <td> 0.000</td>    <th>  Jarque-Bera (JB):  </th> <td>163006940.008</td>\n",
       "</tr>\n",
       "<tr>\n",
       "  <th>Skew:</th>            <td> 4.146</td>    <th>  Prob(JB):          </th>   <td>    0.00</td>   \n",
       "</tr>\n",
       "<tr>\n",
       "  <th>Kurtosis:</th>        <td>47.534</td>    <th>  Cond. No.          </th>   <td>    22.5</td>   \n",
       "</tr>\n",
       "</table>"
      ],
      "text/plain": [
       "<class 'statsmodels.iolib.summary.Summary'>\n",
       "\"\"\"\n",
       "                            OLS Regression Results                            \n",
       "==============================================================================\n",
       "Dep. Variable:      profit_per_minute   R-squared:                       0.032\n",
       "Model:                            OLS   Adj. R-squared:                  0.032\n",
       "Method:                 Least Squares   F-statistic:                 2.127e+04\n",
       "Date:                Sun, 10 Mar 2019   Prob (F-statistic):               0.00\n",
       "Time:                        14:29:11   Log-Likelihood:            -1.3753e+06\n",
       "No. Observations:             1906518   AIC:                         2.751e+06\n",
       "Df Residuals:                 1906514   BIC:                         2.751e+06\n",
       "Df Model:                           3                                         \n",
       "Covariance Type:            nonrobust                                         \n",
       "==================================================================================\n",
       "                     coef    std err          t      P>|t|      [0.025      0.975]\n",
       "----------------------------------------------------------------------------------\n",
       "payment_type_1     1.0989      0.000   2509.173      0.000       1.098       1.100\n",
       "payment_type_2     1.2937      0.001   2020.696      0.000       1.292       1.295\n",
       "payment_type_3     1.0538      0.006    183.966      0.000       1.043       1.065\n",
       "payment_type_4     0.9699      0.010     98.297      0.000       0.951       0.989\n",
       "==============================================================================\n",
       "Omnibus:                  1757241.061   Durbin-Watson:                   1.999\n",
       "Prob(Omnibus):                  0.000   Jarque-Bera (JB):        163006940.008\n",
       "Skew:                           4.146   Prob(JB):                         0.00\n",
       "Kurtosis:                      47.534   Cond. No.                         22.5\n",
       "==============================================================================\n",
       "\n",
       "Warnings:\n",
       "[1] Standard Errors assume that the covariance matrix of the errors is correctly specified.\n",
       "\"\"\""
      ]
     },
     "execution_count": 55,
     "metadata": {},
     "output_type": "execute_result"
    }
   ],
   "source": [
    "model.summary()"
   ]
  },
  {
   "cell_type": "markdown",
   "metadata": {},
   "source": [
    "#### Time of day and profit per minute"
   ]
  },
  {
   "cell_type": "code",
   "execution_count": 56,
   "metadata": {},
   "outputs": [],
   "source": [
    "X = pd.get_dummies(np.floor(df.time_of_day_pickup), prefix='time_of_day_pickup')"
   ]
  },
  {
   "cell_type": "code",
   "execution_count": 57,
   "metadata": {},
   "outputs": [],
   "source": [
    "model = sm.OLS(y, X).fit()"
   ]
  },
  {
   "cell_type": "code",
   "execution_count": 58,
   "metadata": {},
   "outputs": [
    {
     "data": {
      "text/html": [
       "<table class=\"simpletable\">\n",
       "<caption>OLS Regression Results</caption>\n",
       "<tr>\n",
       "  <th>Dep. Variable:</th>    <td>profit_per_minute</td> <th>  R-squared:         </th>  <td>   0.048</td>  \n",
       "</tr>\n",
       "<tr>\n",
       "  <th>Model:</th>                   <td>OLS</td>        <th>  Adj. R-squared:    </th>  <td>   0.048</td>  \n",
       "</tr>\n",
       "<tr>\n",
       "  <th>Method:</th>             <td>Least Squares</td>   <th>  F-statistic:       </th>  <td>   4197.</td>  \n",
       "</tr>\n",
       "<tr>\n",
       "  <th>Date:</th>             <td>Sun, 10 Mar 2019</td>  <th>  Prob (F-statistic):</th>   <td>  0.00</td>   \n",
       "</tr>\n",
       "<tr>\n",
       "  <th>Time:</th>                 <td>14:29:20</td>      <th>  Log-Likelihood:    </th> <td>-1.3596e+06</td>\n",
       "</tr>\n",
       "<tr>\n",
       "  <th>No. Observations:</th>      <td>1906518</td>      <th>  AIC:               </th>  <td>2.719e+06</td> \n",
       "</tr>\n",
       "<tr>\n",
       "  <th>Df Residuals:</th>          <td>1906494</td>      <th>  BIC:               </th>  <td>2.719e+06</td> \n",
       "</tr>\n",
       "<tr>\n",
       "  <th>Df Model:</th>              <td>    23</td>       <th>                     </th>      <td> </td>     \n",
       "</tr>\n",
       "<tr>\n",
       "  <th>Covariance Type:</th>      <td>nonrobust</td>     <th>                     </th>      <td> </td>     \n",
       "</tr>\n",
       "</table>\n",
       "<table class=\"simpletable\">\n",
       "<tr>\n",
       "             <td></td>                <th>coef</th>     <th>std err</th>      <th>t</th>      <th>P>|t|</th>  <th>[0.025</th>    <th>0.975]</th>  \n",
       "</tr>\n",
       "<tr>\n",
       "  <th>time_of_day_pickup_0.0</th>  <td>    1.2675</td> <td>    0.002</td> <td>  670.937</td> <td> 0.000</td> <td>    1.264</td> <td>    1.271</td>\n",
       "</tr>\n",
       "<tr>\n",
       "  <th>time_of_day_pickup_1.0</th>  <td>    1.3229</td> <td>    0.002</td> <td>  586.260</td> <td> 0.000</td> <td>    1.318</td> <td>    1.327</td>\n",
       "</tr>\n",
       "<tr>\n",
       "  <th>time_of_day_pickup_2.0</th>  <td>    1.3674</td> <td>    0.003</td> <td>  509.328</td> <td> 0.000</td> <td>    1.362</td> <td>    1.373</td>\n",
       "</tr>\n",
       "<tr>\n",
       "  <th>time_of_day_pickup_3.0</th>  <td>    1.4038</td> <td>    0.003</td> <td>  439.102</td> <td> 0.000</td> <td>    1.398</td> <td>    1.410</td>\n",
       "</tr>\n",
       "<tr>\n",
       "  <th>time_of_day_pickup_4.0</th>  <td>    1.4980</td> <td>    0.004</td> <td>  414.620</td> <td> 0.000</td> <td>    1.491</td> <td>    1.505</td>\n",
       "</tr>\n",
       "<tr>\n",
       "  <th>time_of_day_pickup_5.0</th>  <td>    1.5993</td> <td>    0.003</td> <td>  459.219</td> <td> 0.000</td> <td>    1.592</td> <td>    1.606</td>\n",
       "</tr>\n",
       "<tr>\n",
       "  <th>time_of_day_pickup_6.0</th>  <td>    1.3820</td> <td>    0.002</td> <td>  586.792</td> <td> 0.000</td> <td>    1.377</td> <td>    1.387</td>\n",
       "</tr>\n",
       "<tr>\n",
       "  <th>time_of_day_pickup_7.0</th>  <td>    1.1950</td> <td>    0.002</td> <td>  651.052</td> <td> 0.000</td> <td>    1.191</td> <td>    1.199</td>\n",
       "</tr>\n",
       "<tr>\n",
       "  <th>time_of_day_pickup_8.0</th>  <td>    1.0917</td> <td>    0.002</td> <td>  662.366</td> <td> 0.000</td> <td>    1.089</td> <td>    1.095</td>\n",
       "</tr>\n",
       "<tr>\n",
       "  <th>time_of_day_pickup_9.0</th>  <td>    1.0765</td> <td>    0.002</td> <td>  655.091</td> <td> 0.000</td> <td>    1.073</td> <td>    1.080</td>\n",
       "</tr>\n",
       "<tr>\n",
       "  <th>time_of_day_pickup_10.0</th> <td>    1.0724</td> <td>    0.002</td> <td>  644.348</td> <td> 0.000</td> <td>    1.069</td> <td>    1.076</td>\n",
       "</tr>\n",
       "<tr>\n",
       "  <th>time_of_day_pickup_11.0</th> <td>    1.0542</td> <td>    0.002</td> <td>  649.941</td> <td> 0.000</td> <td>    1.051</td> <td>    1.057</td>\n",
       "</tr>\n",
       "<tr>\n",
       "  <th>time_of_day_pickup_12.0</th> <td>    1.0479</td> <td>    0.002</td> <td>  661.574</td> <td> 0.000</td> <td>    1.045</td> <td>    1.051</td>\n",
       "</tr>\n",
       "<tr>\n",
       "  <th>time_of_day_pickup_13.0</th> <td>    1.0416</td> <td>    0.002</td> <td>  658.873</td> <td> 0.000</td> <td>    1.039</td> <td>    1.045</td>\n",
       "</tr>\n",
       "<tr>\n",
       "  <th>time_of_day_pickup_14.0</th> <td>    1.0329</td> <td>    0.002</td> <td>  661.079</td> <td> 0.000</td> <td>    1.030</td> <td>    1.036</td>\n",
       "</tr>\n",
       "<tr>\n",
       "  <th>time_of_day_pickup_15.0</th> <td>    1.0357</td> <td>    0.002</td> <td>  647.572</td> <td> 0.000</td> <td>    1.033</td> <td>    1.039</td>\n",
       "</tr>\n",
       "<tr>\n",
       "  <th>time_of_day_pickup_16.0</th> <td>    1.1372</td> <td>    0.002</td> <td>  680.029</td> <td> 0.000</td> <td>    1.134</td> <td>    1.140</td>\n",
       "</tr>\n",
       "<tr>\n",
       "  <th>time_of_day_pickup_17.0</th> <td>    1.1278</td> <td>    0.002</td> <td>  723.958</td> <td> 0.000</td> <td>    1.125</td> <td>    1.131</td>\n",
       "</tr>\n",
       "<tr>\n",
       "  <th>time_of_day_pickup_18.0</th> <td>    1.1515</td> <td>    0.001</td> <td>  795.219</td> <td> 0.000</td> <td>    1.149</td> <td>    1.154</td>\n",
       "</tr>\n",
       "<tr>\n",
       "  <th>time_of_day_pickup_19.0</th> <td>    1.2035</td> <td>    0.001</td> <td>  828.637</td> <td> 0.000</td> <td>    1.201</td> <td>    1.206</td>\n",
       "</tr>\n",
       "<tr>\n",
       "  <th>time_of_day_pickup_20.0</th> <td>    1.2334</td> <td>    0.002</td> <td>  803.829</td> <td> 0.000</td> <td>    1.230</td> <td>    1.236</td>\n",
       "</tr>\n",
       "<tr>\n",
       "  <th>time_of_day_pickup_21.0</th> <td>    1.2164</td> <td>    0.001</td> <td>  814.859</td> <td> 0.000</td> <td>    1.213</td> <td>    1.219</td>\n",
       "</tr>\n",
       "<tr>\n",
       "  <th>time_of_day_pickup_22.0</th> <td>    1.2048</td> <td>    0.002</td> <td>  791.151</td> <td> 0.000</td> <td>    1.202</td> <td>    1.208</td>\n",
       "</tr>\n",
       "<tr>\n",
       "  <th>time_of_day_pickup_23.0</th> <td>    1.2276</td> <td>    0.002</td> <td>  745.021</td> <td> 0.000</td> <td>    1.224</td> <td>    1.231</td>\n",
       "</tr>\n",
       "</table>\n",
       "<table class=\"simpletable\">\n",
       "<tr>\n",
       "  <th>Omnibus:</th>       <td>1828076.407</td> <th>  Durbin-Watson:     </th>   <td>   1.998</td>   \n",
       "</tr>\n",
       "<tr>\n",
       "  <th>Prob(Omnibus):</th>   <td> 0.000</td>    <th>  Jarque-Bera (JB):  </th> <td>180742099.494</td>\n",
       "</tr>\n",
       "<tr>\n",
       "  <th>Skew:</th>            <td> 4.416</td>    <th>  Prob(JB):          </th>   <td>    0.00</td>   \n",
       "</tr>\n",
       "<tr>\n",
       "  <th>Kurtosis:</th>        <td>49.875</td>    <th>  Cond. No.          </th>   <td>    2.50</td>   \n",
       "</tr>\n",
       "</table>"
      ],
      "text/plain": [
       "<class 'statsmodels.iolib.summary.Summary'>\n",
       "\"\"\"\n",
       "                            OLS Regression Results                            \n",
       "==============================================================================\n",
       "Dep. Variable:      profit_per_minute   R-squared:                       0.048\n",
       "Model:                            OLS   Adj. R-squared:                  0.048\n",
       "Method:                 Least Squares   F-statistic:                     4197.\n",
       "Date:                Sun, 10 Mar 2019   Prob (F-statistic):               0.00\n",
       "Time:                        14:29:20   Log-Likelihood:            -1.3596e+06\n",
       "No. Observations:             1906518   AIC:                         2.719e+06\n",
       "Df Residuals:                 1906494   BIC:                         2.719e+06\n",
       "Df Model:                          23                                         \n",
       "Covariance Type:            nonrobust                                         \n",
       "===========================================================================================\n",
       "                              coef    std err          t      P>|t|      [0.025      0.975]\n",
       "-------------------------------------------------------------------------------------------\n",
       "time_of_day_pickup_0.0      1.2675      0.002    670.937      0.000       1.264       1.271\n",
       "time_of_day_pickup_1.0      1.3229      0.002    586.260      0.000       1.318       1.327\n",
       "time_of_day_pickup_2.0      1.3674      0.003    509.328      0.000       1.362       1.373\n",
       "time_of_day_pickup_3.0      1.4038      0.003    439.102      0.000       1.398       1.410\n",
       "time_of_day_pickup_4.0      1.4980      0.004    414.620      0.000       1.491       1.505\n",
       "time_of_day_pickup_5.0      1.5993      0.003    459.219      0.000       1.592       1.606\n",
       "time_of_day_pickup_6.0      1.3820      0.002    586.792      0.000       1.377       1.387\n",
       "time_of_day_pickup_7.0      1.1950      0.002    651.052      0.000       1.191       1.199\n",
       "time_of_day_pickup_8.0      1.0917      0.002    662.366      0.000       1.089       1.095\n",
       "time_of_day_pickup_9.0      1.0765      0.002    655.091      0.000       1.073       1.080\n",
       "time_of_day_pickup_10.0     1.0724      0.002    644.348      0.000       1.069       1.076\n",
       "time_of_day_pickup_11.0     1.0542      0.002    649.941      0.000       1.051       1.057\n",
       "time_of_day_pickup_12.0     1.0479      0.002    661.574      0.000       1.045       1.051\n",
       "time_of_day_pickup_13.0     1.0416      0.002    658.873      0.000       1.039       1.045\n",
       "time_of_day_pickup_14.0     1.0329      0.002    661.079      0.000       1.030       1.036\n",
       "time_of_day_pickup_15.0     1.0357      0.002    647.572      0.000       1.033       1.039\n",
       "time_of_day_pickup_16.0     1.1372      0.002    680.029      0.000       1.134       1.140\n",
       "time_of_day_pickup_17.0     1.1278      0.002    723.958      0.000       1.125       1.131\n",
       "time_of_day_pickup_18.0     1.1515      0.001    795.219      0.000       1.149       1.154\n",
       "time_of_day_pickup_19.0     1.2035      0.001    828.637      0.000       1.201       1.206\n",
       "time_of_day_pickup_20.0     1.2334      0.002    803.829      0.000       1.230       1.236\n",
       "time_of_day_pickup_21.0     1.2164      0.001    814.859      0.000       1.213       1.219\n",
       "time_of_day_pickup_22.0     1.2048      0.002    791.151      0.000       1.202       1.208\n",
       "time_of_day_pickup_23.0     1.2276      0.002    745.021      0.000       1.224       1.231\n",
       "==============================================================================\n",
       "Omnibus:                  1828076.407   Durbin-Watson:                   1.998\n",
       "Prob(Omnibus):                  0.000   Jarque-Bera (JB):        180742099.494\n",
       "Skew:                           4.416   Prob(JB):                         0.00\n",
       "Kurtosis:                      49.875   Cond. No.                         2.50\n",
       "==============================================================================\n",
       "\n",
       "Warnings:\n",
       "[1] Standard Errors assume that the covariance matrix of the errors is correctly specified.\n",
       "\"\"\""
      ]
     },
     "execution_count": 58,
     "metadata": {},
     "output_type": "execute_result"
    }
   ],
   "source": [
    "model.summary()"
   ]
  },
  {
   "cell_type": "markdown",
   "metadata": {},
   "source": [
    "#### Zone and profit per minute"
   ]
  },
  {
   "cell_type": "code",
   "execution_count": 59,
   "metadata": {},
   "outputs": [],
   "source": [
    "X = pd.get_dummies(df.PULocationID, prefix='PULocationID')"
   ]
  },
  {
   "cell_type": "code",
   "execution_count": 60,
   "metadata": {},
   "outputs": [],
   "source": [
    "columns_to_keep = []\n",
    "for index in df.PULocationID.value_counts()[0:30].index:\n",
    "    columns_to_keep.append(X['PULocationID_' + str(index)])\n",
    "X = pd.concat(columns_to_keep, axis=1)"
   ]
  },
  {
   "cell_type": "code",
   "execution_count": 61,
   "metadata": {},
   "outputs": [],
   "source": [
    "model = sm.OLS(y, X).fit()"
   ]
  },
  {
   "cell_type": "code",
   "execution_count": 62,
   "metadata": {},
   "outputs": [
    {
     "data": {
      "text/html": [
       "<table class=\"simpletable\">\n",
       "<caption>OLS Regression Results</caption>\n",
       "<tr>\n",
       "  <th>Dep. Variable:</th>    <td>profit_per_minute</td> <th>  R-squared:         </th>  <td>   0.634</td>  \n",
       "</tr>\n",
       "<tr>\n",
       "  <th>Model:</th>                   <td>OLS</td>        <th>  Adj. R-squared:    </th>  <td>   0.634</td>  \n",
       "</tr>\n",
       "<tr>\n",
       "  <th>Method:</th>             <td>Least Squares</td>   <th>  F-statistic:       </th>  <td>1.103e+05</td> \n",
       "</tr>\n",
       "<tr>\n",
       "  <th>Date:</th>             <td>Sun, 10 Mar 2019</td>  <th>  Prob (F-statistic):</th>   <td>  0.00</td>   \n",
       "</tr>\n",
       "<tr>\n",
       "  <th>Time:</th>                 <td>14:29:35</td>      <th>  Log-Likelihood:    </th> <td>-2.1957e+06</td>\n",
       "</tr>\n",
       "<tr>\n",
       "  <th>No. Observations:</th>      <td>1906518</td>      <th>  AIC:               </th>  <td>4.391e+06</td> \n",
       "</tr>\n",
       "<tr>\n",
       "  <th>Df Residuals:</th>          <td>1906488</td>      <th>  BIC:               </th>  <td>4.392e+06</td> \n",
       "</tr>\n",
       "<tr>\n",
       "  <th>Df Model:</th>              <td>    30</td>       <th>                     </th>      <td> </td>     \n",
       "</tr>\n",
       "<tr>\n",
       "  <th>Covariance Type:</th>      <td>nonrobust</td>     <th>                     </th>      <td> </td>     \n",
       "</tr>\n",
       "</table>\n",
       "<table class=\"simpletable\">\n",
       "<tr>\n",
       "          <td></td>            <th>coef</th>     <th>std err</th>      <th>t</th>      <th>P>|t|</th>  <th>[0.025</th>    <th>0.975]</th>  \n",
       "</tr>\n",
       "<tr>\n",
       "  <th>PULocationID_237</th> <td>    1.2356</td> <td>    0.003</td> <td>  442.874</td> <td> 0.000</td> <td>    1.230</td> <td>    1.241</td>\n",
       "</tr>\n",
       "<tr>\n",
       "  <th>PULocationID_161</th> <td>    1.0878</td> <td>    0.003</td> <td>  379.318</td> <td> 0.000</td> <td>    1.082</td> <td>    1.093</td>\n",
       "</tr>\n",
       "<tr>\n",
       "  <th>PULocationID_236</th> <td>    1.2348</td> <td>    0.003</td> <td>  421.851</td> <td> 0.000</td> <td>    1.229</td> <td>    1.241</td>\n",
       "</tr>\n",
       "<tr>\n",
       "  <th>PULocationID_162</th> <td>    1.1259</td> <td>    0.003</td> <td>  376.930</td> <td> 0.000</td> <td>    1.120</td> <td>    1.132</td>\n",
       "</tr>\n",
       "<tr>\n",
       "  <th>PULocationID_186</th> <td>    1.0503</td> <td>    0.003</td> <td>  349.555</td> <td> 0.000</td> <td>    1.044</td> <td>    1.056</td>\n",
       "</tr>\n",
       "<tr>\n",
       "  <th>PULocationID_170</th> <td>    1.1292</td> <td>    0.003</td> <td>  368.794</td> <td> 0.000</td> <td>    1.123</td> <td>    1.135</td>\n",
       "</tr>\n",
       "<tr>\n",
       "  <th>PULocationID_234</th> <td>    1.0990</td> <td>    0.003</td> <td>  355.420</td> <td> 0.000</td> <td>    1.093</td> <td>    1.105</td>\n",
       "</tr>\n",
       "<tr>\n",
       "  <th>PULocationID_230</th> <td>    1.1165</td> <td>    0.003</td> <td>  360.137</td> <td> 0.000</td> <td>    1.110</td> <td>    1.123</td>\n",
       "</tr>\n",
       "<tr>\n",
       "  <th>PULocationID_48</th>  <td>    1.2033</td> <td>    0.003</td> <td>  384.968</td> <td> 0.000</td> <td>    1.197</td> <td>    1.209</td>\n",
       "</tr>\n",
       "<tr>\n",
       "  <th>PULocationID_142</th> <td>    1.1612</td> <td>    0.003</td> <td>  354.954</td> <td> 0.000</td> <td>    1.155</td> <td>    1.168</td>\n",
       "</tr>\n",
       "<tr>\n",
       "  <th>PULocationID_79</th>  <td>    1.1614</td> <td>    0.003</td> <td>  353.851</td> <td> 0.000</td> <td>    1.155</td> <td>    1.168</td>\n",
       "</tr>\n",
       "<tr>\n",
       "  <th>PULocationID_138</th> <td>    1.0272</td> <td>    0.003</td> <td>  308.512</td> <td> 0.000</td> <td>    1.021</td> <td>    1.034</td>\n",
       "</tr>\n",
       "<tr>\n",
       "  <th>PULocationID_163</th> <td>    1.0977</td> <td>    0.003</td> <td>  323.702</td> <td> 0.000</td> <td>    1.091</td> <td>    1.104</td>\n",
       "</tr>\n",
       "<tr>\n",
       "  <th>PULocationID_239</th> <td>    1.2489</td> <td>    0.003</td> <td>  360.779</td> <td> 0.000</td> <td>    1.242</td> <td>    1.256</td>\n",
       "</tr>\n",
       "<tr>\n",
       "  <th>PULocationID_164</th> <td>    1.1221</td> <td>    0.004</td> <td>  311.529</td> <td> 0.000</td> <td>    1.115</td> <td>    1.129</td>\n",
       "</tr>\n",
       "<tr>\n",
       "  <th>PULocationID_107</th> <td>    1.1478</td> <td>    0.004</td> <td>  318.537</td> <td> 0.000</td> <td>    1.141</td> <td>    1.155</td>\n",
       "</tr>\n",
       "<tr>\n",
       "  <th>PULocationID_68</th>  <td>    1.1531</td> <td>    0.004</td> <td>  317.493</td> <td> 0.000</td> <td>    1.146</td> <td>    1.160</td>\n",
       "</tr>\n",
       "<tr>\n",
       "  <th>PULocationID_141</th> <td>    1.2822</td> <td>    0.004</td> <td>  348.446</td> <td> 0.000</td> <td>    1.275</td> <td>    1.289</td>\n",
       "</tr>\n",
       "<tr>\n",
       "  <th>PULocationID_132</th> <td>    1.1488</td> <td>    0.004</td> <td>  311.557</td> <td> 0.000</td> <td>    1.142</td> <td>    1.156</td>\n",
       "</tr>\n",
       "<tr>\n",
       "  <th>PULocationID_249</th> <td>    1.1479</td> <td>    0.004</td> <td>  295.181</td> <td> 0.000</td> <td>    1.140</td> <td>    1.155</td>\n",
       "</tr>\n",
       "<tr>\n",
       "  <th>PULocationID_100</th> <td>    1.1276</td> <td>    0.004</td> <td>  287.128</td> <td> 0.000</td> <td>    1.120</td> <td>    1.135</td>\n",
       "</tr>\n",
       "<tr>\n",
       "  <th>PULocationID_238</th> <td>    1.2821</td> <td>    0.004</td> <td>  320.001</td> <td> 0.000</td> <td>    1.274</td> <td>    1.290</td>\n",
       "</tr>\n",
       "<tr>\n",
       "  <th>PULocationID_229</th> <td>    1.2086</td> <td>    0.004</td> <td>  301.476</td> <td> 0.000</td> <td>    1.201</td> <td>    1.216</td>\n",
       "</tr>\n",
       "<tr>\n",
       "  <th>PULocationID_90</th>  <td>    1.1752</td> <td>    0.004</td> <td>  288.165</td> <td> 0.000</td> <td>    1.167</td> <td>    1.183</td>\n",
       "</tr>\n",
       "<tr>\n",
       "  <th>PULocationID_231</th> <td>    1.1142</td> <td>    0.004</td> <td>  271.695</td> <td> 0.000</td> <td>    1.106</td> <td>    1.122</td>\n",
       "</tr>\n",
       "<tr>\n",
       "  <th>PULocationID_263</th> <td>    1.3156</td> <td>    0.004</td> <td>  316.487</td> <td> 0.000</td> <td>    1.307</td> <td>    1.324</td>\n",
       "</tr>\n",
       "<tr>\n",
       "  <th>PULocationID_140</th> <td>    1.2087</td> <td>    0.004</td> <td>  282.113</td> <td> 0.000</td> <td>    1.200</td> <td>    1.217</td>\n",
       "</tr>\n",
       "<tr>\n",
       "  <th>PULocationID_113</th> <td>    1.1173</td> <td>    0.004</td> <td>  254.718</td> <td> 0.000</td> <td>    1.109</td> <td>    1.126</td>\n",
       "</tr>\n",
       "<tr>\n",
       "  <th>PULocationID_148</th> <td>    1.1408</td> <td>    0.005</td> <td>  250.807</td> <td> 0.000</td> <td>    1.132</td> <td>    1.150</td>\n",
       "</tr>\n",
       "<tr>\n",
       "  <th>PULocationID_246</th> <td>    1.1054</td> <td>    0.005</td> <td>  242.205</td> <td> 0.000</td> <td>    1.096</td> <td>    1.114</td>\n",
       "</tr>\n",
       "</table>\n",
       "<table class=\"simpletable\">\n",
       "<tr>\n",
       "  <th>Omnibus:</th>       <td>925034.182</td> <th>  Durbin-Watson:     </th>   <td>   1.725</td>  \n",
       "</tr>\n",
       "<tr>\n",
       "  <th>Prob(Omnibus):</th>   <td> 0.000</td>   <th>  Jarque-Bera (JB):  </th> <td>12541507.399</td>\n",
       "</tr>\n",
       "<tr>\n",
       "  <th>Skew:</th>            <td> 1.999</td>   <th>  Prob(JB):          </th>   <td>    0.00</td>  \n",
       "</tr>\n",
       "<tr>\n",
       "  <th>Kurtosis:</th>        <td>14.912</td>   <th>  Cond. No.          </th>   <td>    1.64</td>  \n",
       "</tr>\n",
       "</table>"
      ],
      "text/plain": [
       "<class 'statsmodels.iolib.summary.Summary'>\n",
       "\"\"\"\n",
       "                            OLS Regression Results                            \n",
       "==============================================================================\n",
       "Dep. Variable:      profit_per_minute   R-squared:                       0.634\n",
       "Model:                            OLS   Adj. R-squared:                  0.634\n",
       "Method:                 Least Squares   F-statistic:                 1.103e+05\n",
       "Date:                Sun, 10 Mar 2019   Prob (F-statistic):               0.00\n",
       "Time:                        14:29:35   Log-Likelihood:            -2.1957e+06\n",
       "No. Observations:             1906518   AIC:                         4.391e+06\n",
       "Df Residuals:                 1906488   BIC:                         4.392e+06\n",
       "Df Model:                          30                                         \n",
       "Covariance Type:            nonrobust                                         \n",
       "====================================================================================\n",
       "                       coef    std err          t      P>|t|      [0.025      0.975]\n",
       "------------------------------------------------------------------------------------\n",
       "PULocationID_237     1.2356      0.003    442.874      0.000       1.230       1.241\n",
       "PULocationID_161     1.0878      0.003    379.318      0.000       1.082       1.093\n",
       "PULocationID_236     1.2348      0.003    421.851      0.000       1.229       1.241\n",
       "PULocationID_162     1.1259      0.003    376.930      0.000       1.120       1.132\n",
       "PULocationID_186     1.0503      0.003    349.555      0.000       1.044       1.056\n",
       "PULocationID_170     1.1292      0.003    368.794      0.000       1.123       1.135\n",
       "PULocationID_234     1.0990      0.003    355.420      0.000       1.093       1.105\n",
       "PULocationID_230     1.1165      0.003    360.137      0.000       1.110       1.123\n",
       "PULocationID_48      1.2033      0.003    384.968      0.000       1.197       1.209\n",
       "PULocationID_142     1.1612      0.003    354.954      0.000       1.155       1.168\n",
       "PULocationID_79      1.1614      0.003    353.851      0.000       1.155       1.168\n",
       "PULocationID_138     1.0272      0.003    308.512      0.000       1.021       1.034\n",
       "PULocationID_163     1.0977      0.003    323.702      0.000       1.091       1.104\n",
       "PULocationID_239     1.2489      0.003    360.779      0.000       1.242       1.256\n",
       "PULocationID_164     1.1221      0.004    311.529      0.000       1.115       1.129\n",
       "PULocationID_107     1.1478      0.004    318.537      0.000       1.141       1.155\n",
       "PULocationID_68      1.1531      0.004    317.493      0.000       1.146       1.160\n",
       "PULocationID_141     1.2822      0.004    348.446      0.000       1.275       1.289\n",
       "PULocationID_132     1.1488      0.004    311.557      0.000       1.142       1.156\n",
       "PULocationID_249     1.1479      0.004    295.181      0.000       1.140       1.155\n",
       "PULocationID_100     1.1276      0.004    287.128      0.000       1.120       1.135\n",
       "PULocationID_238     1.2821      0.004    320.001      0.000       1.274       1.290\n",
       "PULocationID_229     1.2086      0.004    301.476      0.000       1.201       1.216\n",
       "PULocationID_90      1.1752      0.004    288.165      0.000       1.167       1.183\n",
       "PULocationID_231     1.1142      0.004    271.695      0.000       1.106       1.122\n",
       "PULocationID_263     1.3156      0.004    316.487      0.000       1.307       1.324\n",
       "PULocationID_140     1.2087      0.004    282.113      0.000       1.200       1.217\n",
       "PULocationID_113     1.1173      0.004    254.718      0.000       1.109       1.126\n",
       "PULocationID_148     1.1408      0.005    250.807      0.000       1.132       1.150\n",
       "PULocationID_246     1.1054      0.005    242.205      0.000       1.096       1.114\n",
       "==============================================================================\n",
       "Omnibus:                   925034.182   Durbin-Watson:                   1.725\n",
       "Prob(Omnibus):                  0.000   Jarque-Bera (JB):         12541507.399\n",
       "Skew:                           1.999   Prob(JB):                         0.00\n",
       "Kurtosis:                      14.912   Cond. No.                         1.64\n",
       "==============================================================================\n",
       "\n",
       "Warnings:\n",
       "[1] Standard Errors assume that the covariance matrix of the errors is correctly specified.\n",
       "\"\"\""
      ]
     },
     "execution_count": 62,
     "metadata": {},
     "output_type": "execute_result"
    }
   ],
   "source": [
    "model.summary()"
   ]
  },
  {
   "cell_type": "markdown",
   "metadata": {},
   "source": [
    "#### Borough and profit per minute"
   ]
  },
  {
   "cell_type": "code",
   "execution_count": 63,
   "metadata": {},
   "outputs": [],
   "source": [
    "X = pd.get_dummies(df.pickup_borough, prefix='pickup_borough')"
   ]
  },
  {
   "cell_type": "code",
   "execution_count": 64,
   "metadata": {},
   "outputs": [],
   "source": [
    "model = sm.OLS(y, X).fit()"
   ]
  },
  {
   "cell_type": "code",
   "execution_count": 65,
   "metadata": {},
   "outputs": [
    {
     "data": {
      "text/html": [
       "<table class=\"simpletable\">\n",
       "<caption>OLS Regression Results</caption>\n",
       "<tr>\n",
       "  <th>Dep. Variable:</th>    <td>profit_per_minute</td> <th>  R-squared:         </th>  <td>   0.001</td>  \n",
       "</tr>\n",
       "<tr>\n",
       "  <th>Model:</th>                   <td>OLS</td>        <th>  Adj. R-squared:    </th>  <td>   0.001</td>  \n",
       "</tr>\n",
       "<tr>\n",
       "  <th>Method:</th>             <td>Least Squares</td>   <th>  F-statistic:       </th>  <td>   169.7</td>  \n",
       "</tr>\n",
       "<tr>\n",
       "  <th>Date:</th>             <td>Sun, 10 Mar 2019</td>  <th>  Prob (F-statistic):</th>  <td>1.08e-216</td> \n",
       "</tr>\n",
       "<tr>\n",
       "  <th>Time:</th>                 <td>14:29:43</td>      <th>  Log-Likelihood:    </th> <td>-1.4062e+06</td>\n",
       "</tr>\n",
       "<tr>\n",
       "  <th>No. Observations:</th>      <td>1906518</td>      <th>  AIC:               </th>  <td>2.812e+06</td> \n",
       "</tr>\n",
       "<tr>\n",
       "  <th>Df Residuals:</th>          <td>1906511</td>      <th>  BIC:               </th>  <td>2.812e+06</td> \n",
       "</tr>\n",
       "<tr>\n",
       "  <th>Df Model:</th>              <td>     6</td>       <th>                     </th>      <td> </td>     \n",
       "</tr>\n",
       "<tr>\n",
       "  <th>Covariance Type:</th>      <td>nonrobust</td>     <th>                     </th>      <td> </td>     \n",
       "</tr>\n",
       "</table>\n",
       "<table class=\"simpletable\">\n",
       "<tr>\n",
       "                <td></td>                  <th>coef</th>     <th>std err</th>      <th>t</th>      <th>P>|t|</th>  <th>[0.025</th>    <th>0.975]</th>  \n",
       "</tr>\n",
       "<tr>\n",
       "  <th>pickup_borough_Bronx</th>         <td>    1.3431</td> <td>    0.013</td> <td>  102.167</td> <td> 0.000</td> <td>    1.317</td> <td>    1.369</td>\n",
       "</tr>\n",
       "<tr>\n",
       "  <th>pickup_borough_Brooklyn</th>      <td>    1.2131</td> <td>    0.003</td> <td>  412.182</td> <td> 0.000</td> <td>    1.207</td> <td>    1.219</td>\n",
       "</tr>\n",
       "<tr>\n",
       "  <th>pickup_borough_EWR</th>           <td>    2.6148</td> <td>    0.169</td> <td>   15.505</td> <td> 0.000</td> <td>    2.284</td> <td>    2.945</td>\n",
       "</tr>\n",
       "<tr>\n",
       "  <th>pickup_borough_Manhattan</th>     <td>    1.1607</td> <td>    0.000</td> <td> 3021.472</td> <td> 0.000</td> <td>    1.160</td> <td>    1.161</td>\n",
       "</tr>\n",
       "<tr>\n",
       "  <th>pickup_borough_Queens</th>        <td>    1.1351</td> <td>    0.001</td> <td>  764.035</td> <td> 0.000</td> <td>    1.132</td> <td>    1.138</td>\n",
       "</tr>\n",
       "<tr>\n",
       "  <th>pickup_borough_Staten Island</th> <td>    2.8806</td> <td>    0.160</td> <td>   18.006</td> <td> 0.000</td> <td>    2.567</td> <td>    3.194</td>\n",
       "</tr>\n",
       "<tr>\n",
       "  <th>pickup_borough_Unknown</th>       <td>    1.1756</td> <td>    0.003</td> <td>  368.543</td> <td> 0.000</td> <td>    1.169</td> <td>    1.182</td>\n",
       "</tr>\n",
       "</table>\n",
       "<table class=\"simpletable\">\n",
       "<tr>\n",
       "  <th>Omnibus:</th>       <td>1766830.713</td> <th>  Durbin-Watson:     </th>   <td>   1.998</td>   \n",
       "</tr>\n",
       "<tr>\n",
       "  <th>Prob(Omnibus):</th>   <td> 0.000</td>    <th>  Jarque-Bera (JB):  </th> <td>153311049.181</td>\n",
       "</tr>\n",
       "<tr>\n",
       "  <th>Skew:</th>            <td> 4.212</td>    <th>  Prob(JB):          </th>   <td>    0.00</td>   \n",
       "</tr>\n",
       "<tr>\n",
       "  <th>Kurtosis:</th>        <td>46.116</td>    <th>  Cond. No.          </th>   <td>    439.</td>   \n",
       "</tr>\n",
       "</table>"
      ],
      "text/plain": [
       "<class 'statsmodels.iolib.summary.Summary'>\n",
       "\"\"\"\n",
       "                            OLS Regression Results                            \n",
       "==============================================================================\n",
       "Dep. Variable:      profit_per_minute   R-squared:                       0.001\n",
       "Model:                            OLS   Adj. R-squared:                  0.001\n",
       "Method:                 Least Squares   F-statistic:                     169.7\n",
       "Date:                Sun, 10 Mar 2019   Prob (F-statistic):          1.08e-216\n",
       "Time:                        14:29:43   Log-Likelihood:            -1.4062e+06\n",
       "No. Observations:             1906518   AIC:                         2.812e+06\n",
       "Df Residuals:                 1906511   BIC:                         2.812e+06\n",
       "Df Model:                           6                                         \n",
       "Covariance Type:            nonrobust                                         \n",
       "================================================================================================\n",
       "                                   coef    std err          t      P>|t|      [0.025      0.975]\n",
       "------------------------------------------------------------------------------------------------\n",
       "pickup_borough_Bronx             1.3431      0.013    102.167      0.000       1.317       1.369\n",
       "pickup_borough_Brooklyn          1.2131      0.003    412.182      0.000       1.207       1.219\n",
       "pickup_borough_EWR               2.6148      0.169     15.505      0.000       2.284       2.945\n",
       "pickup_borough_Manhattan         1.1607      0.000   3021.472      0.000       1.160       1.161\n",
       "pickup_borough_Queens            1.1351      0.001    764.035      0.000       1.132       1.138\n",
       "pickup_borough_Staten Island     2.8806      0.160     18.006      0.000       2.567       3.194\n",
       "pickup_borough_Unknown           1.1756      0.003    368.543      0.000       1.169       1.182\n",
       "==============================================================================\n",
       "Omnibus:                  1766830.713   Durbin-Watson:                   1.998\n",
       "Prob(Omnibus):                  0.000   Jarque-Bera (JB):        153311049.181\n",
       "Skew:                           4.212   Prob(JB):                         0.00\n",
       "Kurtosis:                      46.116   Cond. No.                         439.\n",
       "==============================================================================\n",
       "\n",
       "Warnings:\n",
       "[1] Standard Errors assume that the covariance matrix of the errors is correctly specified.\n",
       "\"\"\""
      ]
     },
     "execution_count": 65,
     "metadata": {},
     "output_type": "execute_result"
    }
   ],
   "source": [
    "model.summary()"
   ]
  },
  {
   "cell_type": "markdown",
   "metadata": {},
   "source": [
    "### Examine how key variables affect gross profit per ride"
   ]
  },
  {
   "cell_type": "code",
   "execution_count": 66,
   "metadata": {},
   "outputs": [],
   "source": [
    "y = df.gross_profit"
   ]
  },
  {
   "cell_type": "markdown",
   "metadata": {},
   "source": [
    "#### Day of week and gross profit per ride"
   ]
  },
  {
   "cell_type": "code",
   "execution_count": 67,
   "metadata": {},
   "outputs": [],
   "source": [
    "X = pd.get_dummies(df.day_of_week_pickup, prefix='day_of_week_pickup')"
   ]
  },
  {
   "cell_type": "code",
   "execution_count": 68,
   "metadata": {},
   "outputs": [],
   "source": [
    "model = sm.OLS(y, X).fit()"
   ]
  },
  {
   "cell_type": "code",
   "execution_count": 69,
   "metadata": {},
   "outputs": [
    {
     "data": {
      "text/html": [
       "<table class=\"simpletable\">\n",
       "<caption>OLS Regression Results</caption>\n",
       "<tr>\n",
       "  <th>Dep. Variable:</th>      <td>gross_profit</td>   <th>  R-squared:         </th>  <td>   0.002</td>  \n",
       "</tr>\n",
       "<tr>\n",
       "  <th>Model:</th>                   <td>OLS</td>       <th>  Adj. R-squared:    </th>  <td>   0.002</td>  \n",
       "</tr>\n",
       "<tr>\n",
       "  <th>Method:</th>             <td>Least Squares</td>  <th>  F-statistic:       </th>  <td>   529.7</td>  \n",
       "</tr>\n",
       "<tr>\n",
       "  <th>Date:</th>             <td>Sun, 10 Mar 2019</td> <th>  Prob (F-statistic):</th>   <td>  0.00</td>   \n",
       "</tr>\n",
       "<tr>\n",
       "  <th>Time:</th>                 <td>14:29:48</td>     <th>  Log-Likelihood:    </th> <td>-7.1779e+06</td>\n",
       "</tr>\n",
       "<tr>\n",
       "  <th>No. Observations:</th>      <td>1906518</td>     <th>  AIC:               </th>  <td>1.436e+07</td> \n",
       "</tr>\n",
       "<tr>\n",
       "  <th>Df Residuals:</th>          <td>1906511</td>     <th>  BIC:               </th>  <td>1.436e+07</td> \n",
       "</tr>\n",
       "<tr>\n",
       "  <th>Df Model:</th>              <td>     6</td>      <th>                     </th>      <td> </td>     \n",
       "</tr>\n",
       "<tr>\n",
       "  <th>Covariance Type:</th>      <td>nonrobust</td>    <th>                     </th>      <td> </td>     \n",
       "</tr>\n",
       "</table>\n",
       "<table class=\"simpletable\">\n",
       "<tr>\n",
       "            <td></td>              <th>coef</th>     <th>std err</th>      <th>t</th>      <th>P>|t|</th>  <th>[0.025</th>    <th>0.975]</th>  \n",
       "</tr>\n",
       "<tr>\n",
       "  <th>day_of_week_pickup_0</th> <td>   14.4861</td> <td>    0.021</td> <td>  678.677</td> <td> 0.000</td> <td>   14.444</td> <td>   14.528</td>\n",
       "</tr>\n",
       "<tr>\n",
       "  <th>day_of_week_pickup_1</th> <td>   14.4810</td> <td>    0.020</td> <td>  707.118</td> <td> 0.000</td> <td>   14.441</td> <td>   14.521</td>\n",
       "</tr>\n",
       "<tr>\n",
       "  <th>day_of_week_pickup_2</th> <td>   14.8451</td> <td>    0.020</td> <td>  730.956</td> <td> 0.000</td> <td>   14.805</td> <td>   14.885</td>\n",
       "</tr>\n",
       "<tr>\n",
       "  <th>day_of_week_pickup_3</th> <td>   14.9584</td> <td>    0.018</td> <td>  828.916</td> <td> 0.000</td> <td>   14.923</td> <td>   14.994</td>\n",
       "</tr>\n",
       "<tr>\n",
       "  <th>day_of_week_pickup_4</th> <td>   14.5936</td> <td>    0.018</td> <td>  803.299</td> <td> 0.000</td> <td>   14.558</td> <td>   14.629</td>\n",
       "</tr>\n",
       "<tr>\n",
       "  <th>day_of_week_pickup_5</th> <td>   13.5373</td> <td>    0.020</td> <td>  660.965</td> <td> 0.000</td> <td>   13.497</td> <td>   13.577</td>\n",
       "</tr>\n",
       "<tr>\n",
       "  <th>day_of_week_pickup_6</th> <td>   14.5801</td> <td>    0.022</td> <td>  650.616</td> <td> 0.000</td> <td>   14.536</td> <td>   14.624</td>\n",
       "</tr>\n",
       "</table>\n",
       "<table class=\"simpletable\">\n",
       "<tr>\n",
       "  <th>Omnibus:</th>       <td>1133076.559</td> <th>  Durbin-Watson:     </th>   <td>   2.000</td>  \n",
       "</tr>\n",
       "<tr>\n",
       "  <th>Prob(Omnibus):</th>   <td> 0.000</td>    <th>  Jarque-Bera (JB):  </th> <td>12461995.629</td>\n",
       "</tr>\n",
       "<tr>\n",
       "  <th>Skew:</th>            <td> 2.721</td>    <th>  Prob(JB):          </th>   <td>    0.00</td>  \n",
       "</tr>\n",
       "<tr>\n",
       "  <th>Kurtosis:</th>        <td>14.281</td>    <th>  Cond. No.          </th>   <td>    1.24</td>  \n",
       "</tr>\n",
       "</table>"
      ],
      "text/plain": [
       "<class 'statsmodels.iolib.summary.Summary'>\n",
       "\"\"\"\n",
       "                            OLS Regression Results                            \n",
       "==============================================================================\n",
       "Dep. Variable:           gross_profit   R-squared:                       0.002\n",
       "Model:                            OLS   Adj. R-squared:                  0.002\n",
       "Method:                 Least Squares   F-statistic:                     529.7\n",
       "Date:                Sun, 10 Mar 2019   Prob (F-statistic):               0.00\n",
       "Time:                        14:29:48   Log-Likelihood:            -7.1779e+06\n",
       "No. Observations:             1906518   AIC:                         1.436e+07\n",
       "Df Residuals:                 1906511   BIC:                         1.436e+07\n",
       "Df Model:                           6                                         \n",
       "Covariance Type:            nonrobust                                         \n",
       "========================================================================================\n",
       "                           coef    std err          t      P>|t|      [0.025      0.975]\n",
       "----------------------------------------------------------------------------------------\n",
       "day_of_week_pickup_0    14.4861      0.021    678.677      0.000      14.444      14.528\n",
       "day_of_week_pickup_1    14.4810      0.020    707.118      0.000      14.441      14.521\n",
       "day_of_week_pickup_2    14.8451      0.020    730.956      0.000      14.805      14.885\n",
       "day_of_week_pickup_3    14.9584      0.018    828.916      0.000      14.923      14.994\n",
       "day_of_week_pickup_4    14.5936      0.018    803.299      0.000      14.558      14.629\n",
       "day_of_week_pickup_5    13.5373      0.020    660.965      0.000      13.497      13.577\n",
       "day_of_week_pickup_6    14.5801      0.022    650.616      0.000      14.536      14.624\n",
       "==============================================================================\n",
       "Omnibus:                  1133076.559   Durbin-Watson:                   2.000\n",
       "Prob(Omnibus):                  0.000   Jarque-Bera (JB):         12461995.629\n",
       "Skew:                           2.721   Prob(JB):                         0.00\n",
       "Kurtosis:                      14.281   Cond. No.                         1.24\n",
       "==============================================================================\n",
       "\n",
       "Warnings:\n",
       "[1] Standard Errors assume that the covariance matrix of the errors is correctly specified.\n",
       "\"\"\""
      ]
     },
     "execution_count": 69,
     "metadata": {},
     "output_type": "execute_result"
    }
   ],
   "source": [
    "model.summary()"
   ]
  },
  {
   "cell_type": "markdown",
   "metadata": {},
   "source": [
    "#### Passenger count and gross profit per ride"
   ]
  },
  {
   "cell_type": "code",
   "execution_count": 70,
   "metadata": {},
   "outputs": [],
   "source": [
    "X = pd.get_dummies(df.passenger_count, prefix='passenger_count')"
   ]
  },
  {
   "cell_type": "code",
   "execution_count": 71,
   "metadata": {},
   "outputs": [],
   "source": [
    "model = sm.OLS(y, X).fit()"
   ]
  },
  {
   "cell_type": "code",
   "execution_count": 72,
   "metadata": {},
   "outputs": [
    {
     "data": {
      "text/html": [
       "<table class=\"simpletable\">\n",
       "<caption>OLS Regression Results</caption>\n",
       "<tr>\n",
       "  <th>Dep. Variable:</th>      <td>gross_profit</td>   <th>  R-squared:         </th>  <td>   0.001</td>  \n",
       "</tr>\n",
       "<tr>\n",
       "  <th>Model:</th>                   <td>OLS</td>       <th>  Adj. R-squared:    </th>  <td>   0.001</td>  \n",
       "</tr>\n",
       "<tr>\n",
       "  <th>Method:</th>             <td>Least Squares</td>  <th>  F-statistic:       </th>  <td>   267.6</td>  \n",
       "</tr>\n",
       "<tr>\n",
       "  <th>Date:</th>             <td>Sun, 10 Mar 2019</td> <th>  Prob (F-statistic):</th>  <td>5.27e-287</td> \n",
       "</tr>\n",
       "<tr>\n",
       "  <th>Time:</th>                 <td>14:29:53</td>     <th>  Log-Likelihood:    </th> <td>-7.1788e+06</td>\n",
       "</tr>\n",
       "<tr>\n",
       "  <th>No. Observations:</th>      <td>1906518</td>     <th>  AIC:               </th>  <td>1.436e+07</td> \n",
       "</tr>\n",
       "<tr>\n",
       "  <th>Df Residuals:</th>          <td>1906512</td>     <th>  BIC:               </th>  <td>1.436e+07</td> \n",
       "</tr>\n",
       "<tr>\n",
       "  <th>Df Model:</th>              <td>     5</td>      <th>                     </th>      <td> </td>     \n",
       "</tr>\n",
       "<tr>\n",
       "  <th>Covariance Type:</th>      <td>nonrobust</td>    <th>                     </th>      <td> </td>     \n",
       "</tr>\n",
       "</table>\n",
       "<table class=\"simpletable\">\n",
       "<tr>\n",
       "          <td></td>             <th>coef</th>     <th>std err</th>      <th>t</th>      <th>P>|t|</th>  <th>[0.025</th>    <th>0.975]</th>  \n",
       "</tr>\n",
       "<tr>\n",
       "  <th>passenger_count_1</th> <td>   14.3619</td> <td>    0.009</td> <td> 1607.265</td> <td> 0.000</td> <td>   14.344</td> <td>   14.379</td>\n",
       "</tr>\n",
       "<tr>\n",
       "  <th>passenger_count_2</th> <td>   15.0878</td> <td>    0.020</td> <td>  756.661</td> <td> 0.000</td> <td>   15.049</td> <td>   15.127</td>\n",
       "</tr>\n",
       "<tr>\n",
       "  <th>passenger_count_3</th> <td>   14.8490</td> <td>    0.037</td> <td>  403.290</td> <td> 0.000</td> <td>   14.777</td> <td>   14.921</td>\n",
       "</tr>\n",
       "<tr>\n",
       "  <th>passenger_count_4</th> <td>   15.1390</td> <td>    0.054</td> <td>  279.864</td> <td> 0.000</td> <td>   15.033</td> <td>   15.245</td>\n",
       "</tr>\n",
       "<tr>\n",
       "  <th>passenger_count_5</th> <td>   14.5622</td> <td>    0.035</td> <td>  417.556</td> <td> 0.000</td> <td>   14.494</td> <td>   14.631</td>\n",
       "</tr>\n",
       "<tr>\n",
       "  <th>passenger_count_6</th> <td>   14.5776</td> <td>    0.044</td> <td>  333.069</td> <td> 0.000</td> <td>   14.492</td> <td>   14.663</td>\n",
       "</tr>\n",
       "</table>\n",
       "<table class=\"simpletable\">\n",
       "<tr>\n",
       "  <th>Omnibus:</th>       <td>1133606.533</td> <th>  Durbin-Watson:     </th>   <td>   2.000</td>  \n",
       "</tr>\n",
       "<tr>\n",
       "  <th>Prob(Omnibus):</th>   <td> 0.000</td>    <th>  Jarque-Bera (JB):  </th> <td>12474258.916</td>\n",
       "</tr>\n",
       "<tr>\n",
       "  <th>Skew:</th>            <td> 2.722</td>    <th>  Prob(JB):          </th>   <td>    0.00</td>  \n",
       "</tr>\n",
       "<tr>\n",
       "  <th>Kurtosis:</th>        <td>14.286</td>    <th>  Cond. No.          </th>   <td>    6.05</td>  \n",
       "</tr>\n",
       "</table>"
      ],
      "text/plain": [
       "<class 'statsmodels.iolib.summary.Summary'>\n",
       "\"\"\"\n",
       "                            OLS Regression Results                            \n",
       "==============================================================================\n",
       "Dep. Variable:           gross_profit   R-squared:                       0.001\n",
       "Model:                            OLS   Adj. R-squared:                  0.001\n",
       "Method:                 Least Squares   F-statistic:                     267.6\n",
       "Date:                Sun, 10 Mar 2019   Prob (F-statistic):          5.27e-287\n",
       "Time:                        14:29:53   Log-Likelihood:            -7.1788e+06\n",
       "No. Observations:             1906518   AIC:                         1.436e+07\n",
       "Df Residuals:                 1906512   BIC:                         1.436e+07\n",
       "Df Model:                           5                                         \n",
       "Covariance Type:            nonrobust                                         \n",
       "=====================================================================================\n",
       "                        coef    std err          t      P>|t|      [0.025      0.975]\n",
       "-------------------------------------------------------------------------------------\n",
       "passenger_count_1    14.3619      0.009   1607.265      0.000      14.344      14.379\n",
       "passenger_count_2    15.0878      0.020    756.661      0.000      15.049      15.127\n",
       "passenger_count_3    14.8490      0.037    403.290      0.000      14.777      14.921\n",
       "passenger_count_4    15.1390      0.054    279.864      0.000      15.033      15.245\n",
       "passenger_count_5    14.5622      0.035    417.556      0.000      14.494      14.631\n",
       "passenger_count_6    14.5776      0.044    333.069      0.000      14.492      14.663\n",
       "==============================================================================\n",
       "Omnibus:                  1133606.533   Durbin-Watson:                   2.000\n",
       "Prob(Omnibus):                  0.000   Jarque-Bera (JB):         12474258.916\n",
       "Skew:                           2.722   Prob(JB):                         0.00\n",
       "Kurtosis:                      14.286   Cond. No.                         6.05\n",
       "==============================================================================\n",
       "\n",
       "Warnings:\n",
       "[1] Standard Errors assume that the covariance matrix of the errors is correctly specified.\n",
       "\"\"\""
      ]
     },
     "execution_count": 72,
     "metadata": {},
     "output_type": "execute_result"
    }
   ],
   "source": [
    "model.summary()"
   ]
  },
  {
   "cell_type": "markdown",
   "metadata": {},
   "source": [
    "#### Payment type and gross profit per ride"
   ]
  },
  {
   "cell_type": "code",
   "execution_count": 73,
   "metadata": {},
   "outputs": [],
   "source": [
    "X = pd.get_dummies(df.payment_type, prefix='payment_type')"
   ]
  },
  {
   "cell_type": "code",
   "execution_count": 74,
   "metadata": {},
   "outputs": [],
   "source": [
    "model = sm.OLS(y, X).fit()"
   ]
  },
  {
   "cell_type": "code",
   "execution_count": 75,
   "metadata": {},
   "outputs": [
    {
     "data": {
      "text/html": [
       "<table class=\"simpletable\">\n",
       "<caption>OLS Regression Results</caption>\n",
       "<tr>\n",
       "  <th>Dep. Variable:</th>      <td>gross_profit</td>   <th>  R-squared:         </th>  <td>   0.003</td>  \n",
       "</tr>\n",
       "<tr>\n",
       "  <th>Model:</th>                   <td>OLS</td>       <th>  Adj. R-squared:    </th>  <td>   0.003</td>  \n",
       "</tr>\n",
       "<tr>\n",
       "  <th>Method:</th>             <td>Least Squares</td>  <th>  F-statistic:       </th>  <td>   1786.</td>  \n",
       "</tr>\n",
       "<tr>\n",
       "  <th>Date:</th>             <td>Sun, 10 Mar 2019</td> <th>  Prob (F-statistic):</th>   <td>  0.00</td>   \n",
       "</tr>\n",
       "<tr>\n",
       "  <th>Time:</th>                 <td>14:29:56</td>     <th>  Log-Likelihood:    </th> <td>-7.1768e+06</td>\n",
       "</tr>\n",
       "<tr>\n",
       "  <th>No. Observations:</th>      <td>1906518</td>     <th>  AIC:               </th>  <td>1.435e+07</td> \n",
       "</tr>\n",
       "<tr>\n",
       "  <th>Df Residuals:</th>          <td>1906514</td>     <th>  BIC:               </th>  <td>1.435e+07</td> \n",
       "</tr>\n",
       "<tr>\n",
       "  <th>Df Model:</th>              <td>     3</td>      <th>                     </th>      <td> </td>     \n",
       "</tr>\n",
       "<tr>\n",
       "  <th>Covariance Type:</th>      <td>nonrobust</td>    <th>                     </th>      <td> </td>     \n",
       "</tr>\n",
       "</table>\n",
       "<table class=\"simpletable\">\n",
       "<tr>\n",
       "         <td></td>           <th>coef</th>     <th>std err</th>      <th>t</th>      <th>P>|t|</th>  <th>[0.025</th>    <th>0.975]</th>  \n",
       "</tr>\n",
       "<tr>\n",
       "  <th>payment_type_1</th> <td>   14.8970</td> <td>    0.009</td> <td> 1622.217</td> <td> 0.000</td> <td>   14.879</td> <td>   14.915</td>\n",
       "</tr>\n",
       "<tr>\n",
       "  <th>payment_type_2</th> <td>   13.7366</td> <td>    0.013</td> <td> 1023.237</td> <td> 0.000</td> <td>   13.710</td> <td>   13.763</td>\n",
       "</tr>\n",
       "<tr>\n",
       "  <th>payment_type_3</th> <td>   12.7299</td> <td>    0.120</td> <td>  105.987</td> <td> 0.000</td> <td>   12.495</td> <td>   12.965</td>\n",
       "</tr>\n",
       "<tr>\n",
       "  <th>payment_type_4</th> <td>   13.1405</td> <td>    0.207</td> <td>   63.511</td> <td> 0.000</td> <td>   12.735</td> <td>   13.546</td>\n",
       "</tr>\n",
       "</table>\n",
       "<table class=\"simpletable\">\n",
       "<tr>\n",
       "  <th>Omnibus:</th>       <td>1124247.955</td> <th>  Durbin-Watson:     </th>   <td>   2.000</td>  \n",
       "</tr>\n",
       "<tr>\n",
       "  <th>Prob(Omnibus):</th>   <td> 0.000</td>    <th>  Jarque-Bera (JB):  </th> <td>12212247.340</td>\n",
       "</tr>\n",
       "<tr>\n",
       "  <th>Skew:</th>            <td> 2.697</td>    <th>  Prob(JB):          </th>   <td>    0.00</td>  \n",
       "</tr>\n",
       "<tr>\n",
       "  <th>Kurtosis:</th>        <td>14.164</td>    <th>  Cond. No.          </th>   <td>    22.5</td>  \n",
       "</tr>\n",
       "</table>"
      ],
      "text/plain": [
       "<class 'statsmodels.iolib.summary.Summary'>\n",
       "\"\"\"\n",
       "                            OLS Regression Results                            \n",
       "==============================================================================\n",
       "Dep. Variable:           gross_profit   R-squared:                       0.003\n",
       "Model:                            OLS   Adj. R-squared:                  0.003\n",
       "Method:                 Least Squares   F-statistic:                     1786.\n",
       "Date:                Sun, 10 Mar 2019   Prob (F-statistic):               0.00\n",
       "Time:                        14:29:56   Log-Likelihood:            -7.1768e+06\n",
       "No. Observations:             1906518   AIC:                         1.435e+07\n",
       "Df Residuals:                 1906514   BIC:                         1.435e+07\n",
       "Df Model:                           3                                         \n",
       "Covariance Type:            nonrobust                                         \n",
       "==================================================================================\n",
       "                     coef    std err          t      P>|t|      [0.025      0.975]\n",
       "----------------------------------------------------------------------------------\n",
       "payment_type_1    14.8970      0.009   1622.217      0.000      14.879      14.915\n",
       "payment_type_2    13.7366      0.013   1023.237      0.000      13.710      13.763\n",
       "payment_type_3    12.7299      0.120    105.987      0.000      12.495      12.965\n",
       "payment_type_4    13.1405      0.207     63.511      0.000      12.735      13.546\n",
       "==============================================================================\n",
       "Omnibus:                  1124247.955   Durbin-Watson:                   2.000\n",
       "Prob(Omnibus):                  0.000   Jarque-Bera (JB):         12212247.340\n",
       "Skew:                           2.697   Prob(JB):                         0.00\n",
       "Kurtosis:                      14.164   Cond. No.                         22.5\n",
       "==============================================================================\n",
       "\n",
       "Warnings:\n",
       "[1] Standard Errors assume that the covariance matrix of the errors is correctly specified.\n",
       "\"\"\""
      ]
     },
     "execution_count": 75,
     "metadata": {},
     "output_type": "execute_result"
    }
   ],
   "source": [
    "model.summary()"
   ]
  },
  {
   "cell_type": "markdown",
   "metadata": {},
   "source": [
    "#### Time of day and gross profit per ride"
   ]
  },
  {
   "cell_type": "code",
   "execution_count": 76,
   "metadata": {},
   "outputs": [],
   "source": [
    "X = pd.get_dummies(np.floor(df.time_of_day_pickup), prefix='time_of_day_pickup')"
   ]
  },
  {
   "cell_type": "code",
   "execution_count": 77,
   "metadata": {},
   "outputs": [],
   "source": [
    "model = sm.OLS(y, X).fit()"
   ]
  },
  {
   "cell_type": "code",
   "execution_count": 78,
   "metadata": {},
   "outputs": [
    {
     "data": {
      "text/html": [
       "<table class=\"simpletable\">\n",
       "<caption>OLS Regression Results</caption>\n",
       "<tr>\n",
       "  <th>Dep. Variable:</th>      <td>gross_profit</td>   <th>  R-squared:         </th>  <td>   0.006</td>  \n",
       "</tr>\n",
       "<tr>\n",
       "  <th>Model:</th>                   <td>OLS</td>       <th>  Adj. R-squared:    </th>  <td>   0.006</td>  \n",
       "</tr>\n",
       "<tr>\n",
       "  <th>Method:</th>             <td>Least Squares</td>  <th>  F-statistic:       </th>  <td>   490.3</td>  \n",
       "</tr>\n",
       "<tr>\n",
       "  <th>Date:</th>             <td>Sun, 10 Mar 2019</td> <th>  Prob (F-statistic):</th>   <td>  0.00</td>   \n",
       "</tr>\n",
       "<tr>\n",
       "  <th>Time:</th>                 <td>14:30:06</td>     <th>  Log-Likelihood:    </th> <td>-7.1739e+06</td>\n",
       "</tr>\n",
       "<tr>\n",
       "  <th>No. Observations:</th>      <td>1906518</td>     <th>  AIC:               </th>  <td>1.435e+07</td> \n",
       "</tr>\n",
       "<tr>\n",
       "  <th>Df Residuals:</th>          <td>1906494</td>     <th>  BIC:               </th>  <td>1.435e+07</td> \n",
       "</tr>\n",
       "<tr>\n",
       "  <th>Df Model:</th>              <td>    23</td>      <th>                     </th>      <td> </td>     \n",
       "</tr>\n",
       "<tr>\n",
       "  <th>Covariance Type:</th>      <td>nonrobust</td>    <th>                     </th>      <td> </td>     \n",
       "</tr>\n",
       "</table>\n",
       "<table class=\"simpletable\">\n",
       "<tr>\n",
       "             <td></td>                <th>coef</th>     <th>std err</th>      <th>t</th>      <th>P>|t|</th>  <th>[0.025</th>    <th>0.975]</th>  \n",
       "</tr>\n",
       "<tr>\n",
       "  <th>time_of_day_pickup_0.0</th>  <td>   14.7880</td> <td>    0.040</td> <td>  370.837</td> <td> 0.000</td> <td>   14.710</td> <td>   14.866</td>\n",
       "</tr>\n",
       "<tr>\n",
       "  <th>time_of_day_pickup_1.0</th>  <td>   14.2294</td> <td>    0.048</td> <td>  298.738</td> <td> 0.000</td> <td>   14.136</td> <td>   14.323</td>\n",
       "</tr>\n",
       "<tr>\n",
       "  <th>time_of_day_pickup_2.0</th>  <td>   13.6375</td> <td>    0.057</td> <td>  240.643</td> <td> 0.000</td> <td>   13.526</td> <td>   13.749</td>\n",
       "</tr>\n",
       "<tr>\n",
       "  <th>time_of_day_pickup_3.0</th>  <td>   14.1437</td> <td>    0.067</td> <td>  209.586</td> <td> 0.000</td> <td>   14.011</td> <td>   14.276</td>\n",
       "</tr>\n",
       "<tr>\n",
       "  <th>time_of_day_pickup_4.0</th>  <td>   16.2956</td> <td>    0.076</td> <td>  213.669</td> <td> 0.000</td> <td>   16.146</td> <td>   16.445</td>\n",
       "</tr>\n",
       "<tr>\n",
       "  <th>time_of_day_pickup_5.0</th>  <td>   16.7543</td> <td>    0.074</td> <td>  227.907</td> <td> 0.000</td> <td>   16.610</td> <td>   16.898</td>\n",
       "</tr>\n",
       "<tr>\n",
       "  <th>time_of_day_pickup_6.0</th>  <td>   13.5706</td> <td>    0.050</td> <td>  272.960</td> <td> 0.000</td> <td>   13.473</td> <td>   13.668</td>\n",
       "</tr>\n",
       "<tr>\n",
       "  <th>time_of_day_pickup_7.0</th>  <td>   12.9121</td> <td>    0.039</td> <td>  333.249</td> <td> 0.000</td> <td>   12.836</td> <td>   12.988</td>\n",
       "</tr>\n",
       "<tr>\n",
       "  <th>time_of_day_pickup_8.0</th>  <td>   13.3738</td> <td>    0.035</td> <td>  384.382</td> <td> 0.000</td> <td>   13.306</td> <td>   13.442</td>\n",
       "</tr>\n",
       "<tr>\n",
       "  <th>time_of_day_pickup_9.0</th>  <td>   13.7079</td> <td>    0.035</td> <td>  395.171</td> <td> 0.000</td> <td>   13.640</td> <td>   13.776</td>\n",
       "</tr>\n",
       "<tr>\n",
       "  <th>time_of_day_pickup_10.0</th> <td>   14.0602</td> <td>    0.035</td> <td>  400.206</td> <td> 0.000</td> <td>   13.991</td> <td>   14.129</td>\n",
       "</tr>\n",
       "<tr>\n",
       "  <th>time_of_day_pickup_11.0</th> <td>   14.3710</td> <td>    0.034</td> <td>  419.732</td> <td> 0.000</td> <td>   14.304</td> <td>   14.438</td>\n",
       "</tr>\n",
       "<tr>\n",
       "  <th>time_of_day_pickup_12.0</th> <td>   14.5779</td> <td>    0.033</td> <td>  436.002</td> <td> 0.000</td> <td>   14.512</td> <td>   14.643</td>\n",
       "</tr>\n",
       "<tr>\n",
       "  <th>time_of_day_pickup_13.0</th> <td>   14.9921</td> <td>    0.033</td> <td>  449.235</td> <td> 0.000</td> <td>   14.927</td> <td>   15.057</td>\n",
       "</tr>\n",
       "<tr>\n",
       "  <th>time_of_day_pickup_14.0</th> <td>   15.3172</td> <td>    0.033</td> <td>  464.428</td> <td> 0.000</td> <td>   15.253</td> <td>   15.382</td>\n",
       "</tr>\n",
       "<tr>\n",
       "  <th>time_of_day_pickup_15.0</th> <td>   15.1684</td> <td>    0.034</td> <td>  449.273</td> <td> 0.000</td> <td>   15.102</td> <td>   15.235</td>\n",
       "</tr>\n",
       "<tr>\n",
       "  <th>time_of_day_pickup_16.0</th> <td>   16.1396</td> <td>    0.035</td> <td>  457.214</td> <td> 0.000</td> <td>   16.070</td> <td>   16.209</td>\n",
       "</tr>\n",
       "<tr>\n",
       "  <th>time_of_day_pickup_17.0</th> <td>   15.6483</td> <td>    0.033</td> <td>  475.870</td> <td> 0.000</td> <td>   15.584</td> <td>   15.713</td>\n",
       "</tr>\n",
       "<tr>\n",
       "  <th>time_of_day_pickup_18.0</th> <td>   14.7185</td> <td>    0.031</td> <td>  481.511</td> <td> 0.000</td> <td>   14.659</td> <td>   14.778</td>\n",
       "</tr>\n",
       "<tr>\n",
       "  <th>time_of_day_pickup_19.0</th> <td>   14.1083</td> <td>    0.031</td> <td>  460.163</td> <td> 0.000</td> <td>   14.048</td> <td>   14.168</td>\n",
       "</tr>\n",
       "<tr>\n",
       "  <th>time_of_day_pickup_20.0</th> <td>   13.7405</td> <td>    0.032</td> <td>  424.207</td> <td> 0.000</td> <td>   13.677</td> <td>   13.804</td>\n",
       "</tr>\n",
       "<tr>\n",
       "  <th>time_of_day_pickup_21.0</th> <td>   14.1189</td> <td>    0.032</td> <td>  448.072</td> <td> 0.000</td> <td>   14.057</td> <td>   14.181</td>\n",
       "</tr>\n",
       "<tr>\n",
       "  <th>time_of_day_pickup_22.0</th> <td>   14.5754</td> <td>    0.032</td> <td>  453.429</td> <td> 0.000</td> <td>   14.512</td> <td>   14.638</td>\n",
       "</tr>\n",
       "<tr>\n",
       "  <th>time_of_day_pickup_23.0</th> <td>   14.9315</td> <td>    0.035</td> <td>  429.301</td> <td> 0.000</td> <td>   14.863</td> <td>   15.000</td>\n",
       "</tr>\n",
       "</table>\n",
       "<table class=\"simpletable\">\n",
       "<tr>\n",
       "  <th>Omnibus:</th>       <td>1130593.448</td> <th>  Durbin-Watson:     </th>   <td>   2.000</td>  \n",
       "</tr>\n",
       "<tr>\n",
       "  <th>Prob(Omnibus):</th>   <td> 0.000</td>    <th>  Jarque-Bera (JB):  </th> <td>12433125.168</td>\n",
       "</tr>\n",
       "<tr>\n",
       "  <th>Skew:</th>            <td> 2.713</td>    <th>  Prob(JB):          </th>   <td>    0.00</td>  \n",
       "</tr>\n",
       "<tr>\n",
       "  <th>Kurtosis:</th>        <td>14.273</td>    <th>  Cond. No.          </th>   <td>    2.50</td>  \n",
       "</tr>\n",
       "</table>"
      ],
      "text/plain": [
       "<class 'statsmodels.iolib.summary.Summary'>\n",
       "\"\"\"\n",
       "                            OLS Regression Results                            \n",
       "==============================================================================\n",
       "Dep. Variable:           gross_profit   R-squared:                       0.006\n",
       "Model:                            OLS   Adj. R-squared:                  0.006\n",
       "Method:                 Least Squares   F-statistic:                     490.3\n",
       "Date:                Sun, 10 Mar 2019   Prob (F-statistic):               0.00\n",
       "Time:                        14:30:06   Log-Likelihood:            -7.1739e+06\n",
       "No. Observations:             1906518   AIC:                         1.435e+07\n",
       "Df Residuals:                 1906494   BIC:                         1.435e+07\n",
       "Df Model:                          23                                         \n",
       "Covariance Type:            nonrobust                                         \n",
       "===========================================================================================\n",
       "                              coef    std err          t      P>|t|      [0.025      0.975]\n",
       "-------------------------------------------------------------------------------------------\n",
       "time_of_day_pickup_0.0     14.7880      0.040    370.837      0.000      14.710      14.866\n",
       "time_of_day_pickup_1.0     14.2294      0.048    298.738      0.000      14.136      14.323\n",
       "time_of_day_pickup_2.0     13.6375      0.057    240.643      0.000      13.526      13.749\n",
       "time_of_day_pickup_3.0     14.1437      0.067    209.586      0.000      14.011      14.276\n",
       "time_of_day_pickup_4.0     16.2956      0.076    213.669      0.000      16.146      16.445\n",
       "time_of_day_pickup_5.0     16.7543      0.074    227.907      0.000      16.610      16.898\n",
       "time_of_day_pickup_6.0     13.5706      0.050    272.960      0.000      13.473      13.668\n",
       "time_of_day_pickup_7.0     12.9121      0.039    333.249      0.000      12.836      12.988\n",
       "time_of_day_pickup_8.0     13.3738      0.035    384.382      0.000      13.306      13.442\n",
       "time_of_day_pickup_9.0     13.7079      0.035    395.171      0.000      13.640      13.776\n",
       "time_of_day_pickup_10.0    14.0602      0.035    400.206      0.000      13.991      14.129\n",
       "time_of_day_pickup_11.0    14.3710      0.034    419.732      0.000      14.304      14.438\n",
       "time_of_day_pickup_12.0    14.5779      0.033    436.002      0.000      14.512      14.643\n",
       "time_of_day_pickup_13.0    14.9921      0.033    449.235      0.000      14.927      15.057\n",
       "time_of_day_pickup_14.0    15.3172      0.033    464.428      0.000      15.253      15.382\n",
       "time_of_day_pickup_15.0    15.1684      0.034    449.273      0.000      15.102      15.235\n",
       "time_of_day_pickup_16.0    16.1396      0.035    457.214      0.000      16.070      16.209\n",
       "time_of_day_pickup_17.0    15.6483      0.033    475.870      0.000      15.584      15.713\n",
       "time_of_day_pickup_18.0    14.7185      0.031    481.511      0.000      14.659      14.778\n",
       "time_of_day_pickup_19.0    14.1083      0.031    460.163      0.000      14.048      14.168\n",
       "time_of_day_pickup_20.0    13.7405      0.032    424.207      0.000      13.677      13.804\n",
       "time_of_day_pickup_21.0    14.1189      0.032    448.072      0.000      14.057      14.181\n",
       "time_of_day_pickup_22.0    14.5754      0.032    453.429      0.000      14.512      14.638\n",
       "time_of_day_pickup_23.0    14.9315      0.035    429.301      0.000      14.863      15.000\n",
       "==============================================================================\n",
       "Omnibus:                  1130593.448   Durbin-Watson:                   2.000\n",
       "Prob(Omnibus):                  0.000   Jarque-Bera (JB):         12433125.168\n",
       "Skew:                           2.713   Prob(JB):                         0.00\n",
       "Kurtosis:                      14.273   Cond. No.                         2.50\n",
       "==============================================================================\n",
       "\n",
       "Warnings:\n",
       "[1] Standard Errors assume that the covariance matrix of the errors is correctly specified.\n",
       "\"\"\""
      ]
     },
     "execution_count": 78,
     "metadata": {},
     "output_type": "execute_result"
    }
   ],
   "source": [
    "model.summary()"
   ]
  },
  {
   "cell_type": "markdown",
   "metadata": {},
   "source": [
    "#### Zone and gross profit"
   ]
  },
  {
   "cell_type": "code",
   "execution_count": 79,
   "metadata": {},
   "outputs": [],
   "source": [
    "X = pd.get_dummies(df.PULocationID, prefix='PULocationID')"
   ]
  },
  {
   "cell_type": "code",
   "execution_count": 80,
   "metadata": {},
   "outputs": [],
   "source": [
    "columns_to_keep = []\n",
    "for index in df.PULocationID.value_counts()[0:30].index:\n",
    "    columns_to_keep.append(X['PULocationID_' + str(index)])\n",
    "X = pd.concat(columns_to_keep, axis=1)"
   ]
  },
  {
   "cell_type": "code",
   "execution_count": 81,
   "metadata": {},
   "outputs": [],
   "source": [
    "model = sm.OLS(y, X).fit()"
   ]
  },
  {
   "cell_type": "code",
   "execution_count": 82,
   "metadata": {},
   "outputs": [
    {
     "data": {
      "text/html": [
       "<table class=\"simpletable\">\n",
       "<caption>OLS Regression Results</caption>\n",
       "<tr>\n",
       "  <th>Dep. Variable:</th>      <td>gross_profit</td>   <th>  R-squared:         </th>  <td>   0.617</td>  \n",
       "</tr>\n",
       "<tr>\n",
       "  <th>Model:</th>                   <td>OLS</td>       <th>  Adj. R-squared:    </th>  <td>   0.617</td>  \n",
       "</tr>\n",
       "<tr>\n",
       "  <th>Method:</th>             <td>Least Squares</td>  <th>  F-statistic:       </th>  <td>1.022e+05</td> \n",
       "</tr>\n",
       "<tr>\n",
       "  <th>Date:</th>             <td>Sun, 10 Mar 2019</td> <th>  Prob (F-statistic):</th>   <td>  0.00</td>   \n",
       "</tr>\n",
       "<tr>\n",
       "  <th>Time:</th>                 <td>14:30:19</td>     <th>  Log-Likelihood:    </th> <td>-7.2904e+06</td>\n",
       "</tr>\n",
       "<tr>\n",
       "  <th>No. Observations:</th>      <td>1906518</td>     <th>  AIC:               </th>  <td>1.458e+07</td> \n",
       "</tr>\n",
       "<tr>\n",
       "  <th>Df Residuals:</th>          <td>1906488</td>     <th>  BIC:               </th>  <td>1.458e+07</td> \n",
       "</tr>\n",
       "<tr>\n",
       "  <th>Df Model:</th>              <td>    30</td>      <th>                     </th>      <td> </td>     \n",
       "</tr>\n",
       "<tr>\n",
       "  <th>Covariance Type:</th>      <td>nonrobust</td>    <th>                     </th>      <td> </td>     \n",
       "</tr>\n",
       "</table>\n",
       "<table class=\"simpletable\">\n",
       "<tr>\n",
       "          <td></td>            <th>coef</th>     <th>std err</th>      <th>t</th>      <th>P>|t|</th>  <th>[0.025</th>    <th>0.975]</th>  \n",
       "</tr>\n",
       "<tr>\n",
       "  <th>PULocationID_237</th> <td>   11.2270</td> <td>    0.040</td> <td>  278.045</td> <td> 0.000</td> <td>   11.148</td> <td>   11.306</td>\n",
       "</tr>\n",
       "<tr>\n",
       "  <th>PULocationID_161</th> <td>   13.5801</td> <td>    0.042</td> <td>  327.214</td> <td> 0.000</td> <td>   13.499</td> <td>   13.661</td>\n",
       "</tr>\n",
       "<tr>\n",
       "  <th>PULocationID_236</th> <td>   11.5724</td> <td>    0.042</td> <td>  273.165</td> <td> 0.000</td> <td>   11.489</td> <td>   11.655</td>\n",
       "</tr>\n",
       "<tr>\n",
       "  <th>PULocationID_162</th> <td>   13.3573</td> <td>    0.043</td> <td>  308.989</td> <td> 0.000</td> <td>   13.273</td> <td>   13.442</td>\n",
       "</tr>\n",
       "<tr>\n",
       "  <th>PULocationID_186</th> <td>   13.7889</td> <td>    0.043</td> <td>  317.092</td> <td> 0.000</td> <td>   13.704</td> <td>   13.874</td>\n",
       "</tr>\n",
       "<tr>\n",
       "  <th>PULocationID_170</th> <td>   13.0757</td> <td>    0.044</td> <td>  295.076</td> <td> 0.000</td> <td>   12.989</td> <td>   13.163</td>\n",
       "</tr>\n",
       "<tr>\n",
       "  <th>PULocationID_234</th> <td>   12.6695</td> <td>    0.045</td> <td>  283.112</td> <td> 0.000</td> <td>   12.582</td> <td>   12.757</td>\n",
       "</tr>\n",
       "<tr>\n",
       "  <th>PULocationID_230</th> <td>   14.9663</td> <td>    0.045</td> <td>  333.553</td> <td> 0.000</td> <td>   14.878</td> <td>   15.054</td>\n",
       "</tr>\n",
       "<tr>\n",
       "  <th>PULocationID_48</th>  <td>   13.1334</td> <td>    0.045</td> <td>  290.325</td> <td> 0.000</td> <td>   13.045</td> <td>   13.222</td>\n",
       "</tr>\n",
       "<tr>\n",
       "  <th>PULocationID_142</th> <td>   12.3315</td> <td>    0.047</td> <td>  260.461</td> <td> 0.000</td> <td>   12.239</td> <td>   12.424</td>\n",
       "</tr>\n",
       "<tr>\n",
       "  <th>PULocationID_79</th>  <td>   12.8596</td> <td>    0.048</td> <td>  270.714</td> <td> 0.000</td> <td>   12.767</td> <td>   12.953</td>\n",
       "</tr>\n",
       "<tr>\n",
       "  <th>PULocationID_138</th> <td>   35.1412</td> <td>    0.048</td> <td>  729.296</td> <td> 0.000</td> <td>   35.047</td> <td>   35.236</td>\n",
       "</tr>\n",
       "<tr>\n",
       "  <th>PULocationID_163</th> <td>   13.8076</td> <td>    0.049</td> <td>  281.348</td> <td> 0.000</td> <td>   13.711</td> <td>   13.904</td>\n",
       "</tr>\n",
       "<tr>\n",
       "  <th>PULocationID_239</th> <td>   12.0024</td> <td>    0.050</td> <td>  239.564</td> <td> 0.000</td> <td>   11.904</td> <td>   12.101</td>\n",
       "</tr>\n",
       "<tr>\n",
       "  <th>PULocationID_164</th> <td>   13.3760</td> <td>    0.052</td> <td>  256.602</td> <td> 0.000</td> <td>   13.274</td> <td>   13.478</td>\n",
       "</tr>\n",
       "<tr>\n",
       "  <th>PULocationID_107</th> <td>   12.4278</td> <td>    0.052</td> <td>  238.307</td> <td> 0.000</td> <td>   12.326</td> <td>   12.530</td>\n",
       "</tr>\n",
       "<tr>\n",
       "  <th>PULocationID_68</th>  <td>   13.1678</td> <td>    0.053</td> <td>  250.525</td> <td> 0.000</td> <td>   13.065</td> <td>   13.271</td>\n",
       "</tr>\n",
       "<tr>\n",
       "  <th>PULocationID_141</th> <td>   11.4801</td> <td>    0.053</td> <td>  215.574</td> <td> 0.000</td> <td>   11.376</td> <td>   11.585</td>\n",
       "</tr>\n",
       "<tr>\n",
       "  <th>PULocationID_132</th> <td>   44.7247</td> <td>    0.053</td> <td>  838.103</td> <td> 0.000</td> <td>   44.620</td> <td>   44.829</td>\n",
       "</tr>\n",
       "<tr>\n",
       "  <th>PULocationID_249</th> <td>   12.7014</td> <td>    0.056</td> <td>  225.688</td> <td> 0.000</td> <td>   12.591</td> <td>   12.812</td>\n",
       "</tr>\n",
       "<tr>\n",
       "  <th>PULocationID_100</th> <td>   13.2369</td> <td>    0.057</td> <td>  232.906</td> <td> 0.000</td> <td>   13.125</td> <td>   13.348</td>\n",
       "</tr>\n",
       "<tr>\n",
       "  <th>PULocationID_238</th> <td>   11.9578</td> <td>    0.058</td> <td>  206.231</td> <td> 0.000</td> <td>   11.844</td> <td>   12.071</td>\n",
       "</tr>\n",
       "<tr>\n",
       "  <th>PULocationID_229</th> <td>   12.1840</td> <td>    0.058</td> <td>  210.003</td> <td> 0.000</td> <td>   12.070</td> <td>   12.298</td>\n",
       "</tr>\n",
       "<tr>\n",
       "  <th>PULocationID_90</th>  <td>   12.1818</td> <td>    0.059</td> <td>  206.389</td> <td> 0.000</td> <td>   12.066</td> <td>   12.297</td>\n",
       "</tr>\n",
       "<tr>\n",
       "  <th>PULocationID_231</th> <td>   14.5919</td> <td>    0.059</td> <td>  245.870</td> <td> 0.000</td> <td>   14.476</td> <td>   14.708</td>\n",
       "</tr>\n",
       "<tr>\n",
       "  <th>PULocationID_263</th> <td>   11.7845</td> <td>    0.060</td> <td>  195.890</td> <td> 0.000</td> <td>   11.667</td> <td>   11.902</td>\n",
       "</tr>\n",
       "<tr>\n",
       "  <th>PULocationID_140</th> <td>   12.9017</td> <td>    0.062</td> <td>  208.073</td> <td> 0.000</td> <td>   12.780</td> <td>   13.023</td>\n",
       "</tr>\n",
       "<tr>\n",
       "  <th>PULocationID_113</th> <td>   12.5341</td> <td>    0.063</td> <td>  197.448</td> <td> 0.000</td> <td>   12.410</td> <td>   12.659</td>\n",
       "</tr>\n",
       "<tr>\n",
       "  <th>PULocationID_148</th> <td>   14.2412</td> <td>    0.066</td> <td>  216.342</td> <td> 0.000</td> <td>   14.112</td> <td>   14.370</td>\n",
       "</tr>\n",
       "<tr>\n",
       "  <th>PULocationID_246</th> <td>   13.3933</td> <td>    0.066</td> <td>  202.766</td> <td> 0.000</td> <td>   13.264</td> <td>   13.523</td>\n",
       "</tr>\n",
       "</table>\n",
       "<table class=\"simpletable\">\n",
       "<tr>\n",
       "  <th>Omnibus:</th>       <td>853539.915</td> <th>  Durbin-Watson:     </th>  <td>   1.809</td>  \n",
       "</tr>\n",
       "<tr>\n",
       "  <th>Prob(Omnibus):</th>   <td> 0.000</td>   <th>  Jarque-Bera (JB):  </th> <td>7600755.058</td>\n",
       "</tr>\n",
       "<tr>\n",
       "  <th>Skew:</th>            <td> 1.942</td>   <th>  Prob(JB):          </th>  <td>    0.00</td>  \n",
       "</tr>\n",
       "<tr>\n",
       "  <th>Kurtosis:</th>        <td>11.978</td>   <th>  Cond. No.          </th>  <td>    1.64</td>  \n",
       "</tr>\n",
       "</table>"
      ],
      "text/plain": [
       "<class 'statsmodels.iolib.summary.Summary'>\n",
       "\"\"\"\n",
       "                            OLS Regression Results                            \n",
       "==============================================================================\n",
       "Dep. Variable:           gross_profit   R-squared:                       0.617\n",
       "Model:                            OLS   Adj. R-squared:                  0.617\n",
       "Method:                 Least Squares   F-statistic:                 1.022e+05\n",
       "Date:                Sun, 10 Mar 2019   Prob (F-statistic):               0.00\n",
       "Time:                        14:30:19   Log-Likelihood:            -7.2904e+06\n",
       "No. Observations:             1906518   AIC:                         1.458e+07\n",
       "Df Residuals:                 1906488   BIC:                         1.458e+07\n",
       "Df Model:                          30                                         \n",
       "Covariance Type:            nonrobust                                         \n",
       "====================================================================================\n",
       "                       coef    std err          t      P>|t|      [0.025      0.975]\n",
       "------------------------------------------------------------------------------------\n",
       "PULocationID_237    11.2270      0.040    278.045      0.000      11.148      11.306\n",
       "PULocationID_161    13.5801      0.042    327.214      0.000      13.499      13.661\n",
       "PULocationID_236    11.5724      0.042    273.165      0.000      11.489      11.655\n",
       "PULocationID_162    13.3573      0.043    308.989      0.000      13.273      13.442\n",
       "PULocationID_186    13.7889      0.043    317.092      0.000      13.704      13.874\n",
       "PULocationID_170    13.0757      0.044    295.076      0.000      12.989      13.163\n",
       "PULocationID_234    12.6695      0.045    283.112      0.000      12.582      12.757\n",
       "PULocationID_230    14.9663      0.045    333.553      0.000      14.878      15.054\n",
       "PULocationID_48     13.1334      0.045    290.325      0.000      13.045      13.222\n",
       "PULocationID_142    12.3315      0.047    260.461      0.000      12.239      12.424\n",
       "PULocationID_79     12.8596      0.048    270.714      0.000      12.767      12.953\n",
       "PULocationID_138    35.1412      0.048    729.296      0.000      35.047      35.236\n",
       "PULocationID_163    13.8076      0.049    281.348      0.000      13.711      13.904\n",
       "PULocationID_239    12.0024      0.050    239.564      0.000      11.904      12.101\n",
       "PULocationID_164    13.3760      0.052    256.602      0.000      13.274      13.478\n",
       "PULocationID_107    12.4278      0.052    238.307      0.000      12.326      12.530\n",
       "PULocationID_68     13.1678      0.053    250.525      0.000      13.065      13.271\n",
       "PULocationID_141    11.4801      0.053    215.574      0.000      11.376      11.585\n",
       "PULocationID_132    44.7247      0.053    838.103      0.000      44.620      44.829\n",
       "PULocationID_249    12.7014      0.056    225.688      0.000      12.591      12.812\n",
       "PULocationID_100    13.2369      0.057    232.906      0.000      13.125      13.348\n",
       "PULocationID_238    11.9578      0.058    206.231      0.000      11.844      12.071\n",
       "PULocationID_229    12.1840      0.058    210.003      0.000      12.070      12.298\n",
       "PULocationID_90     12.1818      0.059    206.389      0.000      12.066      12.297\n",
       "PULocationID_231    14.5919      0.059    245.870      0.000      14.476      14.708\n",
       "PULocationID_263    11.7845      0.060    195.890      0.000      11.667      11.902\n",
       "PULocationID_140    12.9017      0.062    208.073      0.000      12.780      13.023\n",
       "PULocationID_113    12.5341      0.063    197.448      0.000      12.410      12.659\n",
       "PULocationID_148    14.2412      0.066    216.342      0.000      14.112      14.370\n",
       "PULocationID_246    13.3933      0.066    202.766      0.000      13.264      13.523\n",
       "==============================================================================\n",
       "Omnibus:                   853539.915   Durbin-Watson:                   1.809\n",
       "Prob(Omnibus):                  0.000   Jarque-Bera (JB):          7600755.058\n",
       "Skew:                           1.942   Prob(JB):                         0.00\n",
       "Kurtosis:                      11.978   Cond. No.                         1.64\n",
       "==============================================================================\n",
       "\n",
       "Warnings:\n",
       "[1] Standard Errors assume that the covariance matrix of the errors is correctly specified.\n",
       "\"\"\""
      ]
     },
     "execution_count": 82,
     "metadata": {},
     "output_type": "execute_result"
    }
   ],
   "source": [
    "model.summary()"
   ]
  },
  {
   "cell_type": "markdown",
   "metadata": {},
   "source": [
    "#### Borough and profit per minute"
   ]
  },
  {
   "cell_type": "code",
   "execution_count": 83,
   "metadata": {},
   "outputs": [],
   "source": [
    "X = pd.get_dummies(df.pickup_borough, prefix='pickup_borough')"
   ]
  },
  {
   "cell_type": "code",
   "execution_count": 84,
   "metadata": {},
   "outputs": [],
   "source": [
    "model = sm.OLS(y, X).fit()"
   ]
  },
  {
   "cell_type": "code",
   "execution_count": 85,
   "metadata": {},
   "outputs": [
    {
     "data": {
      "text/html": [
       "<table class=\"simpletable\">\n",
       "<caption>OLS Regression Results</caption>\n",
       "<tr>\n",
       "  <th>Dep. Variable:</th>      <td>gross_profit</td>   <th>  R-squared:         </th>  <td>   0.267</td>  \n",
       "</tr>\n",
       "<tr>\n",
       "  <th>Model:</th>                   <td>OLS</td>       <th>  Adj. R-squared:    </th>  <td>   0.267</td>  \n",
       "</tr>\n",
       "<tr>\n",
       "  <th>Method:</th>             <td>Least Squares</td>  <th>  F-statistic:       </th>  <td>1.156e+05</td> \n",
       "</tr>\n",
       "<tr>\n",
       "  <th>Date:</th>             <td>Sun, 10 Mar 2019</td> <th>  Prob (F-statistic):</th>   <td>  0.00</td>   \n",
       "</tr>\n",
       "<tr>\n",
       "  <th>Time:</th>                 <td>14:30:28</td>     <th>  Log-Likelihood:    </th> <td>-6.8837e+06</td>\n",
       "</tr>\n",
       "<tr>\n",
       "  <th>No. Observations:</th>      <td>1906518</td>     <th>  AIC:               </th>  <td>1.377e+07</td> \n",
       "</tr>\n",
       "<tr>\n",
       "  <th>Df Residuals:</th>          <td>1906511</td>     <th>  BIC:               </th>  <td>1.377e+07</td> \n",
       "</tr>\n",
       "<tr>\n",
       "  <th>Df Model:</th>              <td>     6</td>      <th>                     </th>      <td> </td>     \n",
       "</tr>\n",
       "<tr>\n",
       "  <th>Covariance Type:</th>      <td>nonrobust</td>    <th>                     </th>      <td> </td>     \n",
       "</tr>\n",
       "</table>\n",
       "<table class=\"simpletable\">\n",
       "<tr>\n",
       "                <td></td>                  <th>coef</th>     <th>std err</th>      <th>t</th>      <th>P>|t|</th>  <th>[0.025</th>    <th>0.975]</th>  \n",
       "</tr>\n",
       "<tr>\n",
       "  <th>pickup_borough_Bronx</th>         <td>   15.4008</td> <td>    0.233</td> <td>   66.220</td> <td> 0.000</td> <td>   14.945</td> <td>   15.857</td>\n",
       "</tr>\n",
       "<tr>\n",
       "  <th>pickup_borough_Brooklyn</th>      <td>   15.2885</td> <td>    0.052</td> <td>  293.621</td> <td> 0.000</td> <td>   15.186</td> <td>   15.391</td>\n",
       "</tr>\n",
       "<tr>\n",
       "  <th>pickup_borough_EWR</th>           <td>   38.1946</td> <td>    2.983</td> <td>   12.802</td> <td> 0.000</td> <td>   32.347</td> <td>   44.042</td>\n",
       "</tr>\n",
       "<tr>\n",
       "  <th>pickup_borough_Manhattan</th>     <td>   13.0878</td> <td>    0.007</td> <td> 1925.746</td> <td> 0.000</td> <td>   13.074</td> <td>   13.101</td>\n",
       "</tr>\n",
       "<tr>\n",
       "  <th>pickup_borough_Queens</th>        <td>   35.6904</td> <td>    0.026</td> <td> 1357.963</td> <td> 0.000</td> <td>   35.639</td> <td>   35.742</td>\n",
       "</tr>\n",
       "<tr>\n",
       "  <th>pickup_borough_Staten Island</th> <td>   45.1320</td> <td>    2.830</td> <td>   15.946</td> <td> 0.000</td> <td>   39.585</td> <td>   50.679</td>\n",
       "</tr>\n",
       "<tr>\n",
       "  <th>pickup_borough_Unknown</th>       <td>   14.5516</td> <td>    0.056</td> <td>  257.862</td> <td> 0.000</td> <td>   14.441</td> <td>   14.662</td>\n",
       "</tr>\n",
       "</table>\n",
       "<table class=\"simpletable\">\n",
       "<tr>\n",
       "  <th>Omnibus:</th>       <td>1141187.085</td> <th>  Durbin-Watson:     </th>   <td>   2.000</td>  \n",
       "</tr>\n",
       "<tr>\n",
       "  <th>Prob(Omnibus):</th>   <td> 0.000</td>    <th>  Jarque-Bera (JB):  </th> <td>20746771.054</td>\n",
       "</tr>\n",
       "<tr>\n",
       "  <th>Skew:</th>            <td> 2.547</td>    <th>  Prob(JB):          </th>   <td>    0.00</td>  \n",
       "</tr>\n",
       "<tr>\n",
       "  <th>Kurtosis:</th>        <td>18.337</td>    <th>  Cond. No.          </th>   <td>    439.</td>  \n",
       "</tr>\n",
       "</table>"
      ],
      "text/plain": [
       "<class 'statsmodels.iolib.summary.Summary'>\n",
       "\"\"\"\n",
       "                            OLS Regression Results                            \n",
       "==============================================================================\n",
       "Dep. Variable:           gross_profit   R-squared:                       0.267\n",
       "Model:                            OLS   Adj. R-squared:                  0.267\n",
       "Method:                 Least Squares   F-statistic:                 1.156e+05\n",
       "Date:                Sun, 10 Mar 2019   Prob (F-statistic):               0.00\n",
       "Time:                        14:30:28   Log-Likelihood:            -6.8837e+06\n",
       "No. Observations:             1906518   AIC:                         1.377e+07\n",
       "Df Residuals:                 1906511   BIC:                         1.377e+07\n",
       "Df Model:                           6                                         \n",
       "Covariance Type:            nonrobust                                         \n",
       "================================================================================================\n",
       "                                   coef    std err          t      P>|t|      [0.025      0.975]\n",
       "------------------------------------------------------------------------------------------------\n",
       "pickup_borough_Bronx            15.4008      0.233     66.220      0.000      14.945      15.857\n",
       "pickup_borough_Brooklyn         15.2885      0.052    293.621      0.000      15.186      15.391\n",
       "pickup_borough_EWR              38.1946      2.983     12.802      0.000      32.347      44.042\n",
       "pickup_borough_Manhattan        13.0878      0.007   1925.746      0.000      13.074      13.101\n",
       "pickup_borough_Queens           35.6904      0.026   1357.963      0.000      35.639      35.742\n",
       "pickup_borough_Staten Island    45.1320      2.830     15.946      0.000      39.585      50.679\n",
       "pickup_borough_Unknown          14.5516      0.056    257.862      0.000      14.441      14.662\n",
       "==============================================================================\n",
       "Omnibus:                  1141187.085   Durbin-Watson:                   2.000\n",
       "Prob(Omnibus):                  0.000   Jarque-Bera (JB):         20746771.054\n",
       "Skew:                           2.547   Prob(JB):                         0.00\n",
       "Kurtosis:                      18.337   Cond. No.                         439.\n",
       "==============================================================================\n",
       "\n",
       "Warnings:\n",
       "[1] Standard Errors assume that the covariance matrix of the errors is correctly specified.\n",
       "\"\"\""
      ]
     },
     "execution_count": 85,
     "metadata": {},
     "output_type": "execute_result"
    }
   ],
   "source": [
    "model.summary()"
   ]
  },
  {
   "cell_type": "markdown",
   "metadata": {},
   "source": [
    "### Inspect the correlation between key variables"
   ]
  },
  {
   "cell_type": "markdown",
   "metadata": {},
   "source": [
    "#### Day of week pickup"
   ]
  },
  {
   "cell_type": "code",
   "execution_count": 86,
   "metadata": {},
   "outputs": [],
   "source": [
    "corr_df = pd.concat([df.profit_per_minute, df.gross_profit], axis=1)\n",
    "corr_df = corr_df.join(pd.get_dummies(df.day_of_week_pickup, prefix='day_of_week_pickup'))"
   ]
  },
  {
   "cell_type": "code",
   "execution_count": 87,
   "metadata": {},
   "outputs": [
    {
     "data": {
      "image/png": "[encoded data removed]",
      "text/plain": [
       "<matplotlib.figure.Figure at 0x7f5a60277c18>"
      ]
     },
     "metadata": {},
     "output_type": "display_data"
    }
   ],
   "source": [
    "corr = corr_df.corr()\n",
    "_ = sns.heatmap(corr)"
   ]
  },
  {
   "cell_type": "markdown",
   "metadata": {},
   "source": [
    "#### Passenger Count"
   ]
  },
  {
   "cell_type": "code",
   "execution_count": 88,
   "metadata": {},
   "outputs": [],
   "source": [
    "corr_df = pd.concat([df.profit_per_minute, df.gross_profit], axis=1)\n",
    "corr_df = corr_df.join(pd.get_dummies(df.passenger_count, prefix='passenger_count'))"
   ]
  },
  {
   "cell_type": "code",
   "execution_count": 89,
   "metadata": {},
   "outputs": [
    {
     "data": {
      "image/png": "[encoded data removed]",
      "text/plain": [
       "<matplotlib.figure.Figure at 0x7f5a602778d0>"
      ]
     },
     "metadata": {},
     "output_type": "display_data"
    }
   ],
   "source": [
    "corr = corr_df.corr()\n",
    "_ = sns.heatmap(corr)"
   ]
  },
  {
   "cell_type": "markdown",
   "metadata": {},
   "source": [
    "#### Payment type"
   ]
  },
  {
   "cell_type": "code",
   "execution_count": 90,
   "metadata": {},
   "outputs": [],
   "source": [
    "corr_df = pd.concat([df.profit_per_minute, df.gross_profit], axis=1)\n",
    "corr_df = corr_df.join(pd.get_dummies(df.payment_type, prefix='payment_type'))"
   ]
  },
  {
   "cell_type": "code",
   "execution_count": 91,
   "metadata": {},
   "outputs": [
    {
     "data": {
      "image/png": "[encoded data removed]",
      "text/plain": [
       "<matplotlib.figure.Figure at 0x7f5a5e09d588>"
      ]
     },
     "metadata": {},
     "output_type": "display_data"
    }
   ],
   "source": [
    "corr = corr_df.corr()\n",
    "_ = sns.heatmap(corr)"
   ]
  },
  {
   "cell_type": "markdown",
   "metadata": {},
   "source": [
    "#### Time of day pickup"
   ]
  },
  {
   "cell_type": "code",
   "execution_count": 92,
   "metadata": {},
   "outputs": [],
   "source": [
    "corr_df = pd.concat([df.profit_per_minute, df.gross_profit], axis=1)\n",
    "corr_df = corr_df.join(pd.get_dummies(np.floor(df.time_of_day_pickup), prefix='time_of_day_pickup'))"
   ]
  },
  {
   "cell_type": "code",
   "execution_count": 93,
   "metadata": {},
   "outputs": [
    {
     "data": {
      "image/png": "[encoded data removed]",
      "text/plain": [
       "<matplotlib.figure.Figure at 0x7f5a5e09d9b0>"
      ]
     },
     "metadata": {},
     "output_type": "display_data"
    }
   ],
   "source": [
    "corr = corr_df.corr()\n",
    "_ = sns.heatmap(corr)"
   ]
  },
  {
   "cell_type": "markdown",
   "metadata": {},
   "source": [
    "#### Pickup zone"
   ]
  },
  {
   "cell_type": "code",
   "execution_count": 94,
   "metadata": {},
   "outputs": [],
   "source": [
    "zone_table = pd.get_dummies(df.PULocationID)"
   ]
  },
  {
   "cell_type": "code",
   "execution_count": 95,
   "metadata": {},
   "outputs": [],
   "source": [
    "best_zones_per_minute = zone_table[zone_table.columns[1:]].apply(lambda x: x.corr(df.profit_per_minute))\n",
    "best_zones_gross_profit = zone_table[zone_table.columns[1:]].apply(lambda x: x.corr(df.gross_profit))"
   ]
  },
  {
   "cell_type": "code",
   "execution_count": 96,
   "metadata": {},
   "outputs": [
    {
     "data": {
      "text/plain": [
       "263    0.041281\n",
       "141    0.036692\n",
       "238    0.033608\n",
       "237    0.030167\n",
       "239    0.028411\n",
       "236    0.028404\n",
       "75     0.027109\n",
       "74     0.025695\n",
       "145    0.025229\n",
       "265    0.021823\n",
       "151    0.021682\n",
       "7      0.020281\n",
       "262    0.019911\n",
       "207    0.019564\n",
       "194    0.017065\n",
       "134    0.016531\n",
       "42     0.016398\n",
       "193    0.015609\n",
       "41     0.015540\n",
       "48     0.015306\n",
       "dtype: float64"
      ]
     },
     "execution_count": 96,
     "metadata": {},
     "output_type": "execute_result"
    }
   ],
   "source": [
    "best_zones_per_minute = best_zones_per_minute.sort_values(ascending=False)[:20]\n",
    "best_zones_per_minute"
   ]
  },
  {
   "cell_type": "code",
   "execution_count": 97,
   "metadata": {},
   "outputs": [
    {
     "data": {
      "text/plain": [
       "132    0.439491\n",
       "138    0.333181\n",
       "10     0.050588\n",
       "93     0.039654\n",
       "87     0.033216\n",
       "88     0.030310\n",
       "215    0.029774\n",
       "13     0.029681\n",
       "261    0.027818\n",
       "130    0.022926\n",
       "219    0.021963\n",
       "70     0.020860\n",
       "194    0.019368\n",
       "28     0.017613\n",
       "216    0.014752\n",
       "145    0.011802\n",
       "209    0.011027\n",
       "265    0.010764\n",
       "12     0.010084\n",
       "124    0.008696\n",
       "dtype: float64"
      ]
     },
     "execution_count": 97,
     "metadata": {},
     "output_type": "execute_result"
    }
   ],
   "source": [
    "best_zones_gross_profit = best_zones_gross_profit.sort_values(ascending=False)[:20]\n",
    "best_zones_gross_profit"
   ]
  },
  {
   "cell_type": "code",
   "execution_count": 98,
   "metadata": {},
   "outputs": [
    {
     "data": {
      "text/html": [
       "<div>\n",
       "<style scoped>\n",
       "    .dataframe tbody tr th:only-of-type {\n",
       "        vertical-align: middle;\n",
       "    }\n",
       "\n",
       "    .dataframe tbody tr th {\n",
       "        vertical-align: top;\n",
       "    }\n",
       "\n",
       "    .dataframe thead th {\n",
       "        text-align: right;\n",
       "    }\n",
       "</style>\n",
       "<table border=\"1\" class=\"dataframe\">\n",
       "  <thead>\n",
       "    <tr style=\"text-align: right;\">\n",
       "      <th></th>\n",
       "      <th>LocationID</th>\n",
       "      <th>Borough</th>\n",
       "      <th>Zone</th>\n",
       "      <th>service_zone</th>\n",
       "    </tr>\n",
       "  </thead>\n",
       "  <tbody>\n",
       "    <tr>\n",
       "      <th>6</th>\n",
       "      <td>7</td>\n",
       "      <td>Queens</td>\n",
       "      <td>Astoria</td>\n",
       "      <td>Boro Zone</td>\n",
       "    </tr>\n",
       "    <tr>\n",
       "      <th>40</th>\n",
       "      <td>41</td>\n",
       "      <td>Manhattan</td>\n",
       "      <td>Central Harlem</td>\n",
       "      <td>Boro Zone</td>\n",
       "    </tr>\n",
       "    <tr>\n",
       "      <th>41</th>\n",
       "      <td>42</td>\n",
       "      <td>Manhattan</td>\n",
       "      <td>Central Harlem North</td>\n",
       "      <td>Boro Zone</td>\n",
       "    </tr>\n",
       "    <tr>\n",
       "      <th>47</th>\n",
       "      <td>48</td>\n",
       "      <td>Manhattan</td>\n",
       "      <td>Clinton East</td>\n",
       "      <td>Yellow Zone</td>\n",
       "    </tr>\n",
       "    <tr>\n",
       "      <th>73</th>\n",
       "      <td>74</td>\n",
       "      <td>Manhattan</td>\n",
       "      <td>East Harlem North</td>\n",
       "      <td>Boro Zone</td>\n",
       "    </tr>\n",
       "    <tr>\n",
       "      <th>74</th>\n",
       "      <td>75</td>\n",
       "      <td>Manhattan</td>\n",
       "      <td>East Harlem South</td>\n",
       "      <td>Boro Zone</td>\n",
       "    </tr>\n",
       "    <tr>\n",
       "      <th>133</th>\n",
       "      <td>134</td>\n",
       "      <td>Queens</td>\n",
       "      <td>Kew Gardens</td>\n",
       "      <td>Boro Zone</td>\n",
       "    </tr>\n",
       "    <tr>\n",
       "      <th>140</th>\n",
       "      <td>141</td>\n",
       "      <td>Manhattan</td>\n",
       "      <td>Lenox Hill West</td>\n",
       "      <td>Yellow Zone</td>\n",
       "    </tr>\n",
       "    <tr>\n",
       "      <th>144</th>\n",
       "      <td>145</td>\n",
       "      <td>Queens</td>\n",
       "      <td>Long Island City/Hunters Point</td>\n",
       "      <td>Boro Zone</td>\n",
       "    </tr>\n",
       "    <tr>\n",
       "      <th>150</th>\n",
       "      <td>151</td>\n",
       "      <td>Manhattan</td>\n",
       "      <td>Manhattan Valley</td>\n",
       "      <td>Yellow Zone</td>\n",
       "    </tr>\n",
       "    <tr>\n",
       "      <th>192</th>\n",
       "      <td>193</td>\n",
       "      <td>Queens</td>\n",
       "      <td>Queensbridge/Ravenswood</td>\n",
       "      <td>Boro Zone</td>\n",
       "    </tr>\n",
       "    <tr>\n",
       "      <th>193</th>\n",
       "      <td>194</td>\n",
       "      <td>Manhattan</td>\n",
       "      <td>Randalls Island</td>\n",
       "      <td>Yellow Zone</td>\n",
       "    </tr>\n",
       "    <tr>\n",
       "      <th>206</th>\n",
       "      <td>207</td>\n",
       "      <td>Queens</td>\n",
       "      <td>Saint Michaels Cemetery/Woodside</td>\n",
       "      <td>Boro Zone</td>\n",
       "    </tr>\n",
       "    <tr>\n",
       "      <th>235</th>\n",
       "      <td>236</td>\n",
       "      <td>Manhattan</td>\n",
       "      <td>Upper East Side North</td>\n",
       "      <td>Yellow Zone</td>\n",
       "    </tr>\n",
       "    <tr>\n",
       "      <th>236</th>\n",
       "      <td>237</td>\n",
       "      <td>Manhattan</td>\n",
       "      <td>Upper East Side South</td>\n",
       "      <td>Yellow Zone</td>\n",
       "    </tr>\n",
       "    <tr>\n",
       "      <th>237</th>\n",
       "      <td>238</td>\n",
       "      <td>Manhattan</td>\n",
       "      <td>Upper West Side North</td>\n",
       "      <td>Yellow Zone</td>\n",
       "    </tr>\n",
       "    <tr>\n",
       "      <th>238</th>\n",
       "      <td>239</td>\n",
       "      <td>Manhattan</td>\n",
       "      <td>Upper West Side South</td>\n",
       "      <td>Yellow Zone</td>\n",
       "    </tr>\n",
       "    <tr>\n",
       "      <th>261</th>\n",
       "      <td>262</td>\n",
       "      <td>Manhattan</td>\n",
       "      <td>Yorkville East</td>\n",
       "      <td>Yellow Zone</td>\n",
       "    </tr>\n",
       "    <tr>\n",
       "      <th>262</th>\n",
       "      <td>263</td>\n",
       "      <td>Manhattan</td>\n",
       "      <td>Yorkville West</td>\n",
       "      <td>Yellow Zone</td>\n",
       "    </tr>\n",
       "    <tr>\n",
       "      <th>264</th>\n",
       "      <td>265</td>\n",
       "      <td>Unknown</td>\n",
       "      <td>NaN</td>\n",
       "      <td>NaN</td>\n",
       "    </tr>\n",
       "  </tbody>\n",
       "</table>\n",
       "</div>"
      ],
      "text/plain": [
       "     LocationID    Borough                              Zone service_zone\n",
       "6             7     Queens                           Astoria    Boro Zone\n",
       "40           41  Manhattan                    Central Harlem    Boro Zone\n",
       "41           42  Manhattan              Central Harlem North    Boro Zone\n",
       "47           48  Manhattan                      Clinton East  Yellow Zone\n",
       "73           74  Manhattan                 East Harlem North    Boro Zone\n",
       "74           75  Manhattan                 East Harlem South    Boro Zone\n",
       "133         134     Queens                       Kew Gardens    Boro Zone\n",
       "140         141  Manhattan                   Lenox Hill West  Yellow Zone\n",
       "144         145     Queens    Long Island City/Hunters Point    Boro Zone\n",
       "150         151  Manhattan                  Manhattan Valley  Yellow Zone\n",
       "192         193     Queens           Queensbridge/Ravenswood    Boro Zone\n",
       "193         194  Manhattan                   Randalls Island  Yellow Zone\n",
       "206         207     Queens  Saint Michaels Cemetery/Woodside    Boro Zone\n",
       "235         236  Manhattan             Upper East Side North  Yellow Zone\n",
       "236         237  Manhattan             Upper East Side South  Yellow Zone\n",
       "237         238  Manhattan             Upper West Side North  Yellow Zone\n",
       "238         239  Manhattan             Upper West Side South  Yellow Zone\n",
       "261         262  Manhattan                    Yorkville East  Yellow Zone\n",
       "262         263  Manhattan                    Yorkville West  Yellow Zone\n",
       "264         265    Unknown                               NaN          NaN"
      ]
     },
     "execution_count": 98,
     "metadata": {},
     "output_type": "execute_result"
    }
   ],
   "source": [
    "zone_lookup[zone_lookup.LocationID.isin(best_zones_per_minute.index)]"
   ]
  },
  {
   "cell_type": "code",
   "execution_count": 99,
   "metadata": {},
   "outputs": [
    {
     "data": {
      "text/html": [
       "<div>\n",
       "<style scoped>\n",
       "    .dataframe tbody tr th:only-of-type {\n",
       "        vertical-align: middle;\n",
       "    }\n",
       "\n",
       "    .dataframe tbody tr th {\n",
       "        vertical-align: top;\n",
       "    }\n",
       "\n",
       "    .dataframe thead th {\n",
       "        text-align: right;\n",
       "    }\n",
       "</style>\n",
       "<table border=\"1\" class=\"dataframe\">\n",
       "  <thead>\n",
       "    <tr style=\"text-align: right;\">\n",
       "      <th></th>\n",
       "      <th>LocationID</th>\n",
       "      <th>Borough</th>\n",
       "      <th>Zone</th>\n",
       "      <th>service_zone</th>\n",
       "    </tr>\n",
       "  </thead>\n",
       "  <tbody>\n",
       "    <tr>\n",
       "      <th>9</th>\n",
       "      <td>10</td>\n",
       "      <td>Queens</td>\n",
       "      <td>Baisley Park</td>\n",
       "      <td>Boro Zone</td>\n",
       "    </tr>\n",
       "    <tr>\n",
       "      <th>11</th>\n",
       "      <td>12</td>\n",
       "      <td>Manhattan</td>\n",
       "      <td>Battery Park</td>\n",
       "      <td>Yellow Zone</td>\n",
       "    </tr>\n",
       "    <tr>\n",
       "      <th>12</th>\n",
       "      <td>13</td>\n",
       "      <td>Manhattan</td>\n",
       "      <td>Battery Park City</td>\n",
       "      <td>Yellow Zone</td>\n",
       "    </tr>\n",
       "    <tr>\n",
       "      <th>27</th>\n",
       "      <td>28</td>\n",
       "      <td>Queens</td>\n",
       "      <td>Briarwood/Jamaica Hills</td>\n",
       "      <td>Boro Zone</td>\n",
       "    </tr>\n",
       "    <tr>\n",
       "      <th>69</th>\n",
       "      <td>70</td>\n",
       "      <td>Queens</td>\n",
       "      <td>East Elmhurst</td>\n",
       "      <td>Boro Zone</td>\n",
       "    </tr>\n",
       "    <tr>\n",
       "      <th>86</th>\n",
       "      <td>87</td>\n",
       "      <td>Manhattan</td>\n",
       "      <td>Financial District North</td>\n",
       "      <td>Yellow Zone</td>\n",
       "    </tr>\n",
       "    <tr>\n",
       "      <th>87</th>\n",
       "      <td>88</td>\n",
       "      <td>Manhattan</td>\n",
       "      <td>Financial District South</td>\n",
       "      <td>Yellow Zone</td>\n",
       "    </tr>\n",
       "    <tr>\n",
       "      <th>92</th>\n",
       "      <td>93</td>\n",
       "      <td>Queens</td>\n",
       "      <td>Flushing Meadows-Corona Park</td>\n",
       "      <td>Boro Zone</td>\n",
       "    </tr>\n",
       "    <tr>\n",
       "      <th>123</th>\n",
       "      <td>124</td>\n",
       "      <td>Queens</td>\n",
       "      <td>Howard Beach</td>\n",
       "      <td>Boro Zone</td>\n",
       "    </tr>\n",
       "    <tr>\n",
       "      <th>129</th>\n",
       "      <td>130</td>\n",
       "      <td>Queens</td>\n",
       "      <td>Jamaica</td>\n",
       "      <td>Boro Zone</td>\n",
       "    </tr>\n",
       "    <tr>\n",
       "      <th>131</th>\n",
       "      <td>132</td>\n",
       "      <td>Queens</td>\n",
       "      <td>JFK Airport</td>\n",
       "      <td>Airports</td>\n",
       "    </tr>\n",
       "    <tr>\n",
       "      <th>137</th>\n",
       "      <td>138</td>\n",
       "      <td>Queens</td>\n",
       "      <td>LaGuardia Airport</td>\n",
       "      <td>Airports</td>\n",
       "    </tr>\n",
       "    <tr>\n",
       "      <th>144</th>\n",
       "      <td>145</td>\n",
       "      <td>Queens</td>\n",
       "      <td>Long Island City/Hunters Point</td>\n",
       "      <td>Boro Zone</td>\n",
       "    </tr>\n",
       "    <tr>\n",
       "      <th>193</th>\n",
       "      <td>194</td>\n",
       "      <td>Manhattan</td>\n",
       "      <td>Randalls Island</td>\n",
       "      <td>Yellow Zone</td>\n",
       "    </tr>\n",
       "    <tr>\n",
       "      <th>208</th>\n",
       "      <td>209</td>\n",
       "      <td>Manhattan</td>\n",
       "      <td>Seaport</td>\n",
       "      <td>Yellow Zone</td>\n",
       "    </tr>\n",
       "    <tr>\n",
       "      <th>214</th>\n",
       "      <td>215</td>\n",
       "      <td>Queens</td>\n",
       "      <td>South Jamaica</td>\n",
       "      <td>Boro Zone</td>\n",
       "    </tr>\n",
       "    <tr>\n",
       "      <th>215</th>\n",
       "      <td>216</td>\n",
       "      <td>Queens</td>\n",
       "      <td>South Ozone Park</td>\n",
       "      <td>Boro Zone</td>\n",
       "    </tr>\n",
       "    <tr>\n",
       "      <th>218</th>\n",
       "      <td>219</td>\n",
       "      <td>Queens</td>\n",
       "      <td>Springfield Gardens South</td>\n",
       "      <td>Boro Zone</td>\n",
       "    </tr>\n",
       "    <tr>\n",
       "      <th>260</th>\n",
       "      <td>261</td>\n",
       "      <td>Manhattan</td>\n",
       "      <td>World Trade Center</td>\n",
       "      <td>Yellow Zone</td>\n",
       "    </tr>\n",
       "    <tr>\n",
       "      <th>264</th>\n",
       "      <td>265</td>\n",
       "      <td>Unknown</td>\n",
       "      <td>NaN</td>\n",
       "      <td>NaN</td>\n",
       "    </tr>\n",
       "  </tbody>\n",
       "</table>\n",
       "</div>"
      ],
      "text/plain": [
       "     LocationID    Borough                            Zone service_zone\n",
       "9            10     Queens                    Baisley Park    Boro Zone\n",
       "11           12  Manhattan                    Battery Park  Yellow Zone\n",
       "12           13  Manhattan               Battery Park City  Yellow Zone\n",
       "27           28     Queens         Briarwood/Jamaica Hills    Boro Zone\n",
       "69           70     Queens                   East Elmhurst    Boro Zone\n",
       "86           87  Manhattan        Financial District North  Yellow Zone\n",
       "87           88  Manhattan        Financial District South  Yellow Zone\n",
       "92           93     Queens    Flushing Meadows-Corona Park    Boro Zone\n",
       "123         124     Queens                    Howard Beach    Boro Zone\n",
       "129         130     Queens                         Jamaica    Boro Zone\n",
       "131         132     Queens                     JFK Airport     Airports\n",
       "137         138     Queens               LaGuardia Airport     Airports\n",
       "144         145     Queens  Long Island City/Hunters Point    Boro Zone\n",
       "193         194  Manhattan                 Randalls Island  Yellow Zone\n",
       "208         209  Manhattan                         Seaport  Yellow Zone\n",
       "214         215     Queens                   South Jamaica    Boro Zone\n",
       "215         216     Queens                South Ozone Park    Boro Zone\n",
       "218         219     Queens       Springfield Gardens South    Boro Zone\n",
       "260         261  Manhattan              World Trade Center  Yellow Zone\n",
       "264         265    Unknown                             NaN          NaN"
      ]
     },
     "execution_count": 99,
     "metadata": {},
     "output_type": "execute_result"
    }
   ],
   "source": [
    "zone_lookup[zone_lookup.LocationID.isin(best_zones_gross_profit.index)]"
   ]
  },
  {
   "cell_type": "code",
   "execution_count": 100,
   "metadata": {},
   "outputs": [],
   "source": [
    "borough_table = pd.get_dummies(df.pickup_borough)"
   ]
  },
  {
   "cell_type": "code",
   "execution_count": 101,
   "metadata": {},
   "outputs": [],
   "source": [
    "best_borough_per_minute = borough_table[borough_table.columns[1:]].apply(lambda x: x.corr(df.profit_per_minute[:-1]))\n",
    "best_borough_gross_profit = borough_table[borough_table.columns[1:]].apply(lambda x: x.corr(df.total_amount[:-1]))"
   ]
  },
  {
   "cell_type": "code",
   "execution_count": 102,
   "metadata": {},
   "outputs": [
    {
     "data": {
      "text/plain": [
       "Brooklyn         0.013093\n",
       "Staten Island    0.007786\n",
       "EWR              0.006245\n",
       "Unknown          0.003486\n",
       "Manhattan        0.002476\n",
       "Queens          -0.012705\n",
       "dtype: float64"
      ]
     },
     "execution_count": 102,
     "metadata": {},
     "output_type": "execute_result"
    }
   ],
   "source": [
    "best_borough_per_minute.sort_values(ascending=False)"
   ]
  },
  {
   "cell_type": "code",
   "execution_count": 103,
   "metadata": {},
   "outputs": [
    {
     "data": {
      "text/plain": [
       "Queens           0.533183\n",
       "Brooklyn         0.007592\n",
       "Staten Island    0.006303\n",
       "EWR              0.005194\n",
       "Unknown          0.000040\n",
       "Manhattan       -0.448248\n",
       "dtype: float64"
      ]
     },
     "execution_count": 103,
     "metadata": {},
     "output_type": "execute_result"
    }
   ],
   "source": [
    "best_borough_gross_profit.sort_values(ascending=False)"
   ]
  },
  {
   "cell_type": "markdown",
   "metadata": {},
   "source": [
    "### Find the best time of day for driving taxis"
   ]
  },
  {
   "cell_type": "code",
   "execution_count": 104,
   "metadata": {},
   "outputs": [],
   "source": [
    "df['pickup_hour'] = np.floor(df['time_of_day_pickup'])"
   ]
  },
  {
   "cell_type": "code",
   "execution_count": 105,
   "metadata": {},
   "outputs": [],
   "source": [
    "profit_per_minute_averages = []\n",
    "for i in range(24):\n",
    "    profit_per_minute_averages.append(df[df.pickup_hour == i].profit_per_minute.mean())"
   ]
  },
  {
   "cell_type": "code",
   "execution_count": 106,
   "metadata": {},
   "outputs": [],
   "source": [
    "gross_profit_averages = []\n",
    "for i in range(24):\n",
    "    gross_profit_averages.append(df[df.pickup_hour == i].gross_profit.mean())"
   ]
  },
  {
   "cell_type": "code",
   "execution_count": 107,
   "metadata": {},
   "outputs": [
    {
     "data": {
      "text/plain": [
       "<matplotlib.text.Text at 0x7f5a3c832978>"
      ]
     },
     "execution_count": 107,
     "metadata": {},
     "output_type": "execute_result"
    },
    {
     "data": {
      "image/png": "[encoded data removed]",
      "text/plain": [
       "<matplotlib.figure.Figure at 0x7f5a5e2c43c8>"
      ]
     },
     "metadata": {},
     "output_type": "display_data"
    }
   ],
   "source": [
    "fig, ax = plt.subplots(1, 2, figsize=(15, 5))\n",
    "ax[0].plot(profit_per_minute_averages)\n",
    "ax[0].set_xlabel('hour of day')\n",
    "ax[0].set_ylabel('profit per minute')\n",
    "ax[1].plot(gross_profit_averages)\n",
    "ax[1].set_xlabel('hour of day')\n",
    "ax[1].set_ylabel('profit per ride')"
   ]
  },
  {
   "cell_type": "markdown",
   "metadata": {},
   "source": [
    "### Best day of week for driving taxis"
   ]
  },
  {
   "cell_type": "code",
   "execution_count": 108,
   "metadata": {},
   "outputs": [],
   "source": [
    "profit_per_minute_averages = []\n",
    "for i in range(7):\n",
    "    profit_per_minute_averages.append(df[df.day_of_week_pickup == i].profit_per_minute.mean())"
   ]
  },
  {
   "cell_type": "code",
   "execution_count": 109,
   "metadata": {},
   "outputs": [],
   "source": [
    "gross_profit_averages = []\n",
    "for i in range(7):\n",
    "    gross_profit_averages.append(df[df.day_of_week_pickup == i].gross_profit.mean())"
   ]
  },
  {
   "cell_type": "code",
   "execution_count": 110,
   "metadata": {},
   "outputs": [
    {
     "data": {
      "text/plain": [
       "<matplotlib.text.Text at 0x7f5a5e34def0>"
      ]
     },
     "execution_count": 110,
     "metadata": {},
     "output_type": "execute_result"
    },
    {
     "data": {
      "image/png": "[encoded data removed]",
      "text/plain": [
       "<matplotlib.figure.Figure at 0x7f5a3c6a78d0>"
      ]
     },
     "metadata": {},
     "output_type": "display_data"
    }
   ],
   "source": [
    "fig, ax = plt.subplots(1, 2, figsize=(15, 5))\n",
    "ax[0].plot(profit_per_minute_averages)\n",
    "ax[0].set_xlabel('day of week')\n",
    "ax[0].set_ylabel('profit per minute')\n",
    "ax[1].plot(gross_profit_averages)\n",
    "ax[1].set_xlabel('day of week')\n",
    "ax[1].set_ylabel('profit per ride')"
   ]
  },
  {
   "cell_type": "markdown",
   "metadata": {},
   "source": [
    "### Best hour of week for driving taxis"
   ]
  },
  {
   "cell_type": "code",
   "execution_count": 111,
   "metadata": {},
   "outputs": [],
   "source": [
    "profit_per_minute_averages = []\n",
    "for i in range(168):\n",
    "    profit_per_minute_averages.append(df[df.hour_of_week_pickup == i].profit_per_minute.mean())"
   ]
  },
  {
   "cell_type": "code",
   "execution_count": 112,
   "metadata": {},
   "outputs": [],
   "source": [
    "gross_profit_averages = []\n",
    "for i in range(168):\n",
    "    gross_profit_averages.append(df[df.hour_of_week_pickup == i].gross_profit.mean())"
   ]
  },
  {
   "cell_type": "code",
   "execution_count": 113,
   "metadata": {},
   "outputs": [
    {
     "data": {
      "text/plain": [
       "<matplotlib.text.Text at 0x7f5a5e2a27b8>"
      ]
     },
     "execution_count": 113,
     "metadata": {},
     "output_type": "execute_result"
    },
    {
     "data": {
      "image/png": "[encoded data removed]",
      "text/plain": [
       "<matplotlib.figure.Figure at 0x7f5a3c193438>"
      ]
     },
     "metadata": {},
     "output_type": "display_data"
    }
   ],
   "source": [
    "fig, ax = plt.subplots(1, 2, figsize=(15, 5))\n",
    "ax[0].plot(profit_per_minute_averages)\n",
    "ax[0].set_xlabel('hour of week (Monday 12am = 0)')\n",
    "ax[0].set_ylabel('profit per minute')\n",
    "ax[1].plot(gross_profit_averages)\n",
    "ax[1].set_xlabel('hour of week (Monday 12am = 0)')\n",
    "ax[1].set_ylabel('profit per ride')"
   ]
  },
  {
   "cell_type": "markdown",
   "metadata": {},
   "source": [
    "## Conclusions"
   ]
  },
  {
   "cell_type": "markdown",
   "metadata": {},
   "source": [
    "### Location Conclusions\n",
    "#### Profit Per Minute\n",
    "When choosing what location to drive your taxicab, a couple things could be important. A driver might want to maximize how much they are making per minute or they might want to maximize how much they make per ride. Maximizing per minute should lead to higher overall returns, but maximizing per ride could be a strategy to decrease the amount of time they do not have a passenger in their taxi.\n",
    "\n",
    "By running a linear regression on the data we can find that zones that will generate the highest revenue per minute.  the best zones for revenue per minute are:\n",
    "- Yorkville West\n",
    "- Lenox Hill West\n",
    "- Upper East Side South\n",
    "- Upper East Side North\n",
    "- Upper West Side South\n",
    "- Upper West Side North\n",
    "\n",
    "Now it might be hard as a taxi driver to stay in one zone, however looking at a map, Upper East Side North, Upper East Side South, Yorkville West, and Lenox Hill West are right next to each other, and Upper West Side South and Upper West Side North are on the other side of Central Park. Staying in this area, would be the quickest way to drive up your rate per minute pay.\n",
    "\n",
    "Surprisingly, even though Manhatten contains the top 6 zones for profit per minute, the borough of Manhatten as a whole does not do too well in generating profit per minute. When running a regression against the boroughs and profit per minute, Staten Island and the Bronx fare the best. However, the borough regression had a low R-squared value, but also had low P values, suggesting there is high variability in the data, but also that the borough is a significant predictor in profit per minute. The regression against the boroughs provides interesting data, but should be taken with a grain of salt.\n",
    "\n",
    "#### Profit Per Ride\n",
    "An alternative to looking at profit per minute would be to look at profit per ride. One of the biggest expenses a taxi drive might face is when there cab is empty. The longer they have to wait between passengers, the less rides they will give, resulting in less profits. If we assume the amount of time it takes to get a new passenger is uniform at different locations, taking fewer, longer trips will result in higher overall profits.\n",
    "\n",
    "By running a linear regression, two zones were clear favorites for producing the most profit per ride:\n",
    "\n",
    "The best zones for maximizing profit per ride are:\n",
    "- JFK Airport\n",
    "- Laguardia Airport\n",
    "\n",
    "It comes as no surprise these zones produce the highest profits per ride as these should be some of the longest trips. The downside of picking passengers up at the airports and taking them on long distance rides is you will often times end up quite far from the airport, and would have to drive back to get another passenger. However this downside could be offset by the high profit rides produced by picking passengers up at the airport. In further support of being a taxi driver to and from the airport, these two zones, although not at the top, also fared well is profit per minute, particularly JFK which was in the top 20 zones for profit per minute"
   ]
  },
  {
   "cell_type": "markdown",
   "metadata": {},
   "source": [
    "### Time of Day Conclusions\n",
    "The regression analysis suggests profit per minute and profit per ride follow similar trends when it comes to the best time of day to drive. The best time of day is between 4am and 6am. After that, both profits per minute and profits per ride have a sharp decline between 6am and 8am. From here the two variables start to differ. \n",
    "\n",
    "Profits per minute have a lull in the middle of the day and then starting around 4pm they start a steady climb to 6am.\n",
    "\n",
    "Profits per ride are more variable and seem to have a couple spikes before climbing back to their peak at 6am.\n",
    "\n",
    "Driving between 4am and 6am may prove difficult for some, so if this is not feasible, the next best option would be to drive as late into the evening as you can."
   ]
  },
  {
   "cell_type": "markdown",
   "metadata": {},
   "source": [
    "### Day of Week Conclusions\n",
    "Analyzing the day of the week to maximize profit per ride, showed that all days are about the same with the exception of Saturday being the worst day.\n",
    "\n",
    "However, when picking a day of the week for profits per minute, Sunday was the strongest contender, with Monday and Saturday following. The reason Sunday, Monday and Saturday are the highest has less to do with the high points of the day being high and more to do with the low points of the day not being as low as other days. With the assumption that you will not drive at a bad time of day, the day of the week you choose has little effect."
   ]
  },
  {
   "cell_type": "markdown",
   "metadata": {},
   "source": [
    "### Taxicab vs Taxivan Conclusions\n",
    "Having a traditional taxicab allows you to take between 1 and 4 passengers. However, if you own a taxivan, you could take up to 6 passengers. The analysis shows there is little to no increase in profits per minute or profits per ride from taking 5 or 6 passengers. Due to the extra expenses associated with a taxi van, I would advise to stay away from them."
   ]
  },
  {
   "cell_type": "markdown",
   "metadata": {},
   "source": [
    "## Recommendations\n",
    "With all that is known about the data and the constraints of only driving 10 hours a week, I would suggest one of the two following plans:\n",
    "\n",
    "Be a taxi driver to and from JFK airport between 4am to 6am, 5 days a week.\n",
    "\n",
    "If 4am to 6am are not your preferred working hours, I would recommend you drive people around the Upper East Side for 2 hours a night, 5 days a week. The later in the evening you can go, the better."
   ]
  },
  {
   "cell_type": "markdown",
   "metadata": {},
   "source": [
    "## Complications"
   ]
  },
  {
   "cell_type": "markdown",
   "metadata": {},
   "source": [
    "The biggest complication I see in this data is what I will refer to as vacancy expense. Vacancy expense is the lost revenue from not having someone in your taxi at any given moment. Vacancy expense could have a key outcome on the above analysis as it could vary greatly between different locations and times of day.\n",
    "\n",
    "Driving passengers from JFK airport may have a high profit per ride and profit per minute, but it might come with a higher vacancy expense than other types of rides. Likewise, driving late at night or early in the morning may be good for profit per ride and profit per minute, but it too could come with a higher than average vacancy expense."
   ]
  },
  {
   "cell_type": "markdown",
   "metadata": {},
   "source": [
    "## Future Data Desires\n",
    "\n",
    "The data could be significantly aided by having a way to calculate the vacancy expense. Such a thing could be accomplished by having an ID on each taxi. If I had known which data had come from which taxi, I would have been able to calculate the timeframes in which the taxi was empty. From there I could have created a vacancy expense variable as well as analyzed different vacancy percentages for differnt zones, boroughs, times of day, and days of the week.\n",
    "\n",
    "If I had known this information, I could determine if the increase in profits from driving between 4am and 6am would offset what I would assume would be a higher vacancy expense.\n",
    "\n",
    "#### Information that was not particularly useful\n",
    "- VendorID - The provider of the data did not appear to affect results\n",
    "- RatecodeID - Not useful because 99% of the data was the standard rate\n",
    "- improvement_surcharge - Almost all the data was 0.3\n",
    "- mta_tax - Almost all the data was 0.5 "
   ]
  }
 ],
 "metadata": {
  "kernelspec": {
   "display_name": "Python 3",
   "language": "python",
   "name": "python3"
  },
  "language_info": {
   "codemirror_mode": {
    "name": "ipython",
    "version": 3
   },
   "file_extension": ".py",
   "mimetype": "text/x-python",
   "name": "python",
   "nbconvert_exporter": "python",
   "pygments_lexer": "ipython3",
   "version": "3.6.4"
  }
 },
 "nbformat": 4,
 "nbformat_minor": 2
}
